{
 "cells": [
  {
   "cell_type": "markdown",
   "metadata": {},
   "source": [
    "# Sparkify Project Workspace\n",
    "This workspace contains a tiny subset (128MB) of the full dataset available (12GB). Feel free to use this workspace to build your project, or to explore a smaller subset with Spark before deploying your cluster on the cloud. Instructions for setting up your Spark cluster is included in the last lesson of the Extracurricular Spark Course content.\n",
    "\n",
    "You can follow the steps below to guide your data analysis and model building portion of this project."
   ]
  },
  {
   "cell_type": "code",
   "execution_count": 27,
   "metadata": {
    "scrolled": true
   },
   "outputs": [],
   "source": [
    "# import libraries\n",
    "from pyspark.sql import SparkSession\n",
    "from pyspark.sql import functions as F\n",
    "from pyspark.sql.functions import avg, col, concat, desc, explode, lit, min, max, split,udf,sum \n",
    "#from pyspark.sql.functions import sum as Fsum\n",
    "from pyspark.sql.functions import isnan, when, count,desc,asc\n",
    "from pyspark.sql.types import *\n",
    "\n",
    "from pyspark.ml import Pipeline\n",
    "from pyspark.ml.feature import Tokenizer,CountVectorizer, HashingTF, IDF, PCA \n",
    "from pyspark.ml.feature import VectorIndexer, OneHotEncoderEstimator, StopWordsRemover,VectorAssembler\n",
    "from pyspark.ml.feature import StandardScaler,IndexToString, StringIndexer\n",
    "from pyspark.ml.classification import LogisticRegression,RandomForestClassifier\n",
    "\n",
    "from pyspark.ml.evaluation import MulticlassClassificationEvaluator\n",
    "from pyspark.ml.tuning import CrossValidator, ParamGridBuilder\n",
    "from pyspark.ml.linalg import Vectors \n",
    "\n",
    "#from workspace_utils import active_session\n",
    "import re\n",
    "import datetime\n",
    "import numpy as np\n",
    "import pandas as pd\n",
    "%matplotlib inline\n",
    "import matplotlib.pyplot as plt\n",
    "from operator import add\n",
    "from functools import reduce"
   ]
  },
  {
   "cell_type": "code",
   "execution_count": 28,
   "metadata": {
    "scrolled": true
   },
   "outputs": [
    {
     "name": "stdout",
     "output_type": "stream",
     "text": [
      "2.3.2\n"
     ]
    }
   ],
   "source": [
    "spark = SparkSession.builder \\\n",
    "    .master(\"local\") \\\n",
    "    .appName(\"Spark Capstone Project\") \\\n",
    "    .getOrCreate()"
   ]
  },
  {
   "cell_type": "markdown",
   "metadata": {},
   "source": [
    "# Load and Clean Dataset\n",
    "Clean your dataset, checking for invalid or missing data. For example, records without userids or sessionids. In this workspace, the filename is `mini_sparkify_event_data.json`."
   ]
  },
  {
   "cell_type": "code",
   "execution_count": 55,
   "metadata": {
    "scrolled": true
   },
   "outputs": [
    {
     "data": {
      "text/plain": [
       "DataFrame[artist: string, auth: string, firstName: string, gender: string, itemInSession: bigint, lastName: string, length: double, level: string, location: string, method: string, page: string, registration: bigint, sessionId: bigint, song: string, status: bigint, ts: bigint, userAgent: string, userId: string]"
      ]
     },
     "execution_count": 55,
     "metadata": {},
     "output_type": "execute_result"
    }
   ],
   "source": [
    "mini_sparkify_event_data = 'mini_sparkify_event_data.json'\n",
    "df = spark.read.json(mini_sparkify_event_data)\n",
    "df.persist()"
   ]
  },
  {
   "cell_type": "markdown",
   "metadata": {},
   "source": [
    "First look at the data : - "
   ]
  },
  {
   "cell_type": "code",
   "execution_count": 56,
   "metadata": {
    "scrolled": false
   },
   "outputs": [
    {
     "name": "stdout",
     "output_type": "stream",
     "text": [
      "[Row(artist='Martha Tilston', auth='Logged In', firstName='Colin', gender='M', itemInSession=50, lastName='Freeman', length=277.89016, level='paid', location='Bakersfield, CA', method='PUT', page='NextSong', registration=1538173362000, sessionId=29, song='Rockpools', status=200, ts=1538352117000, userAgent='Mozilla/5.0 (Windows NT 6.1; WOW64; rv:31.0) Gecko/20100101 Firefox/31.0', userId='30')]\n",
      "root\n",
      " |-- artist: string (nullable = true)\n",
      " |-- auth: string (nullable = true)\n",
      " |-- firstName: string (nullable = true)\n",
      " |-- gender: string (nullable = true)\n",
      " |-- itemInSession: long (nullable = true)\n",
      " |-- lastName: string (nullable = true)\n",
      " |-- length: double (nullable = true)\n",
      " |-- level: string (nullable = true)\n",
      " |-- location: string (nullable = true)\n",
      " |-- method: string (nullable = true)\n",
      " |-- page: string (nullable = true)\n",
      " |-- registration: long (nullable = true)\n",
      " |-- sessionId: long (nullable = true)\n",
      " |-- song: string (nullable = true)\n",
      " |-- status: long (nullable = true)\n",
      " |-- ts: long (nullable = true)\n",
      " |-- userAgent: string (nullable = true)\n",
      " |-- userId: string (nullable = true)\n",
      "\n"
     ]
    }
   ],
   "source": [
    "print(df.take(1))\n",
    "df.printSchema()"
   ]
  },
  {
   "cell_type": "markdown",
   "metadata": {},
   "source": [
    "Dropping Rows With Missing Items : - "
   ]
  },
  {
   "cell_type": "code",
   "execution_count": 57,
   "metadata": {
    "scrolled": false
   },
   "outputs": [
    {
     "name": "stdout",
     "output_type": "stream",
     "text": [
      "Total Count:  286500\n",
      "Missing Value in Columns :- \n",
      "artist : 58392\n",
      "auth : 0\n",
      "firstName : 8346\n",
      "gender : 8346\n",
      "itemInSession : 0\n",
      "lastName : 8346\n",
      "length : 58392\n",
      "level : 0\n",
      "location : 8346\n",
      "method : 0\n",
      "page : 0\n",
      "registration : 8346\n",
      "sessionId : 0\n",
      "song : 58392\n",
      "status : 0\n",
      "ts : 0\n",
      "userAgent : 8346\n",
      "userId : 0\n"
     ]
    }
   ],
   "source": [
    "print(\"Total Count: \", df.count())\n",
    "print(\"Missing Value in Columns :- \")\n",
    "for colName, dtype in df.dtypes:\n",
    "    print(colName,':', df.filter(df[colName].isNull()).count())"
   ]
  },
  {
   "cell_type": "markdown",
   "metadata": {},
   "source": [
    "As we can see:\n",
    "UserID, itemInSession, sessionID, time stamp,authorization, level, method and page has zero missing values. \n",
    "\n",
    "1. Artist, Length and Song have same number of missing values\n",
    "2. User Agent, registration, first name, last name, location and gender have the same number of missing values. "
   ]
  },
  {
   "cell_type": "code",
   "execution_count": 58,
   "metadata": {
    "scrolled": true
   },
   "outputs": [
    {
     "name": "stdout",
     "output_type": "stream",
     "text": [
      "+------+----------+---------+------+-------------+--------+------+-----+--------+------+----+------------+---------+----+------+-------------+---------+------+\n",
      "|artist|auth      |firstName|gender|itemInSession|lastName|length|level|location|method|page|registration|sessionId|song|status|ts           |userAgent|userId|\n",
      "+------+----------+---------+------+-------------+--------+------+-----+--------+------+----+------------+---------+----+------+-------------+---------+------+\n",
      "|null  |Logged Out|null     |null  |100          |null    |null  |free |null    |GET   |Home|null        |8        |null|200   |1538355745000|null     |      |\n",
      "|null  |Logged Out|null     |null  |101          |null    |null  |free |null    |GET   |Help|null        |8        |null|200   |1538355807000|null     |      |\n",
      "|null  |Logged Out|null     |null  |102          |null    |null  |free |null    |GET   |Home|null        |8        |null|200   |1538355841000|null     |      |\n",
      "+------+----------+---------+------+-------------+--------+------+-----+--------+------+----+------------+---------+----+------+-------------+---------+------+\n",
      "only showing top 3 rows\n",
      "\n",
      "Number of rows with missing registration:  8346\n",
      "Number of rows with missing registration, name, gender, location and user agent:  8346\n"
     ]
    }
   ],
   "source": [
    "df.filter(df.registration.isNull()).show(3,False)\n",
    "\n",
    "print(\"Number of rows with missing registration: \", df.filter(df.registration.isNull()).count())\n",
    "print(\"Number of rows with missing registration, name, gender, location and user agent: \",\\\n",
    "      df.filter(df.registration.isNull() & df.firstName.isNull() & df.lastName.isNull() &\n",
    "               df.gender.isNull() & df.location.isNull() & df.userAgent.isNull()).count()) \n",
    "\n",
    "df = df.filter(df.registration.isNotNull())"
   ]
  },
  {
   "cell_type": "markdown",
   "metadata": {},
   "source": [
    "These are all missing at the same row - where the user is not logged in. So as we can't identify these users individually and they constitute just ~3% of the records we drop the rows where registration is 0. \n",
    "\n",
    "Total Records : 286500\n",
    "\n",
    "Missing Registration: 8346\n",
    "\n",
    "% Missing Registration : 2.91%\n",
    "\n",
    "Columns to Drop\n",
    "- First name and last name aren't that useful\n",
    "- Auth has no variability - all users are logged in \n",
    "- We can user id to uniquely identify a user - so registration number isn't needed\n",
    "- All activities of a user will be collected without factoring in timestamp"
   ]
  },
  {
   "cell_type": "code",
   "execution_count": 59,
   "metadata": {},
   "outputs": [
    {
     "name": "stdout",
     "output_type": "stream",
     "text": [
      "+---------+------+------+-------------+--------------------+----------------+--------+------+-----+------+--------------------+-----------------+---------+\n",
      "|sessionId|gender|method|itemInSession|            location|          artist|    page|userId|level|status|           userAgent|             song|   length|\n",
      "+---------+------+------+-------------+--------------------+----------------+--------+------+-----+------+--------------------+-----------------+---------+\n",
      "|       29|     M|   PUT|           50|     Bakersfield, CA|  Martha Tilston|NextSong|    30| paid|   200|Mozilla/5.0 (Wind...|        Rockpools|277.89016|\n",
      "|        8|     M|   PUT|           79|Boston-Cambridge-...|Five Iron Frenzy|NextSong|     9| free|   200|\"Mozilla/5.0 (Win...|           Canada|236.09424|\n",
      "|       29|     M|   PUT|           51|     Bakersfield, CA|    Adam Lambert|NextSong|    30| paid|   200|Mozilla/5.0 (Wind...|Time For Miracles| 282.8273|\n",
      "+---------+------+------+-------------+--------------------+----------------+--------+------+-----+------+--------------------+-----------------+---------+\n",
      "only showing top 3 rows\n",
      "\n"
     ]
    }
   ],
   "source": [
    "dropIrrelevant = [\"firstName\",\"lastName\",\"auth\",\"ts\",\"registration\"]\n",
    "keepCols = list(set(df.columns) - set(dropIrrelevant))\n",
    "df = df.select(keepCols)\n",
    "df.show(3,True)"
   ]
  },
  {
   "cell_type": "code",
   "execution_count": 60,
   "metadata": {},
   "outputs": [
    {
     "name": "stdout",
     "output_type": "stream",
     "text": [
      "Number of rows with missing artist:  50046\n",
      "Number of rows with missing artist, song, song length:  50046\n",
      "Next song page with missing song:  0\n",
      "Song on a different page:  0\n"
     ]
    }
   ],
   "source": [
    "print(\"Number of rows with missing artist: \", df.filter(df.artist.isNull()).count())\n",
    "print(\"Number of rows with missing artist, song, song length: \",\\\n",
    "      df.filter(df.artist.isNull() & df.song.isNull() & df.length.isNull()).count()) \n",
    "\n",
    "print(\"Next song page with missing song: \", df.filter(df.song.isNull() & (df.page==\"NextSong\")).count()) \n",
    "print(\"Song on a different page: \", df.filter(df.song.isNotNull() & (df.page!=\"NextSong\")).count()) "
   ]
  },
  {
   "cell_type": "markdown",
   "metadata": {},
   "source": [
    "When we look into song which has same missing values as length and artist we find, \n",
    "\n",
    "When song is null, length is not defined as well as artist. Song is only present on the page nextSong.\n",
    "\n",
    "Total Records : 286500\n",
    "\n",
    "Missing Song (not a song page): 58392\n",
    "\n",
    "% Missing Registration : 20.38 %\n",
    "\n",
    "20% rows do not contain songs but these other pages can be relevant in determining churn so we will use it later, instead of dropping it.  "
   ]
  },
  {
   "cell_type": "code",
   "execution_count": 61,
   "metadata": {
    "scrolled": true
   },
   "outputs": [
    {
     "name": "stdout",
     "output_type": "stream",
     "text": [
      "+-----+-------------------------+------+\n",
      "|level|page                     |count |\n",
      "+-----+-------------------------+------+\n",
      "|free |About                    |93    |\n",
      "|paid |About                    |402   |\n",
      "|free |Add Friend               |893   |\n",
      "|paid |Add Friend               |3384  |\n",
      "|paid |Add to Playlist          |5354  |\n",
      "|free |Add to Playlist          |1172  |\n",
      "|paid |Cancel                   |31    |\n",
      "|free |Cancel                   |21    |\n",
      "|free |Cancellation Confirmation|21    |\n",
      "|paid |Cancellation Confirmation|31    |\n",
      "|paid |Downgrade                |2055  |\n",
      "|free |Error                    |53    |\n",
      "|paid |Error                    |199   |\n",
      "|paid |Help                     |1132  |\n",
      "|free |Help                     |322   |\n",
      "|paid |Home                     |7461  |\n",
      "|free |Home                     |2621  |\n",
      "|free |Logout                   |922   |\n",
      "|paid |Logout                   |2304  |\n",
      "|free |NextSong                 |41991 |\n",
      "|paid |NextSong                 |186117|\n",
      "|paid |Roll Advert              |246   |\n",
      "|free |Roll Advert              |3687  |\n",
      "|free |Save Settings            |85    |\n",
      "|paid |Save Settings            |225   |\n",
      "|paid |Settings                 |1154  |\n",
      "|free |Settings                 |360   |\n",
      "|paid |Submit Downgrade         |63    |\n",
      "|free |Submit Upgrade           |159   |\n",
      "|paid |Thumbs Down              |1933  |\n",
      "|free |Thumbs Down              |613   |\n",
      "|free |Thumbs Up                |2209  |\n",
      "|paid |Thumbs Up                |10342 |\n",
      "|free |Upgrade                  |499   |\n",
      "+-----+-------------------------+------+\n",
      "\n",
      "+-------------------------+------+------+\n",
      "|page                     |method|count |\n",
      "+-------------------------+------+------+\n",
      "|About                    |GET   |495   |\n",
      "|Add Friend               |PUT   |4277  |\n",
      "|Add to Playlist          |PUT   |6526  |\n",
      "|Cancel                   |PUT   |52    |\n",
      "|Cancellation Confirmation|GET   |52    |\n",
      "|Downgrade                |GET   |2055  |\n",
      "|Error                    |GET   |252   |\n",
      "|Help                     |GET   |1454  |\n",
      "|Home                     |GET   |10082 |\n",
      "|Logout                   |PUT   |3226  |\n",
      "|NextSong                 |PUT   |228108|\n",
      "|Roll Advert              |GET   |3933  |\n",
      "|Save Settings            |PUT   |310   |\n",
      "|Settings                 |GET   |1514  |\n",
      "|Submit Downgrade         |PUT   |63    |\n",
      "|Submit Upgrade           |PUT   |159   |\n",
      "|Thumbs Down              |PUT   |2546  |\n",
      "|Thumbs Up                |PUT   |12551 |\n",
      "|Upgrade                  |GET   |499   |\n",
      "+-------------------------+------+------+\n",
      "\n"
     ]
    }
   ],
   "source": [
    "df.groupby('level','page').count().sort('page').show(100,False)\n",
    "df.groupby('page','method').count().sort('page','method').show(100,False)"
   ]
  },
  {
   "cell_type": "markdown",
   "metadata": {},
   "source": [
    "Looking into pages column : \n",
    "    \n",
    "Free users can reach upgrade and submit upgrade page  \n",
    "Paid users can reach downgrade and submit downgrade page    \n",
    "\n",
    "The remaining pages are common. A page has either GET or POST method not both. "
   ]
  },
  {
   "cell_type": "markdown",
   "metadata": {},
   "source": [
    "# Exploratory Data Analysis\n",
    "When you're working with the full dataset, perform EDA by loading a small subset of the data and doing basic manipulations within Spark. In this workspace, you are already provided a small subset of data you can explore.\n",
    "\n",
    "### Define Churn\n",
    "\n",
    "Once you've done some preliminary analysis, create a column `Churn` to use as the label for your model. I suggest using the `Cancellation Confirmation` events to define your churn, which happen for both paid and free users. As a bonus task, you can also look into the `Downgrade` events.\n",
    "\n",
    "### Explore Data\n",
    "Once you've defined churn, perform some exploratory data analysis to observe the behavior for users who stayed vs users who churned. You can start by exploring aggregates on these two groups of users, observing how much of a specific action they experienced per a certain time unit or number of songs played."
   ]
  },
  {
   "cell_type": "code",
   "execution_count": 38,
   "metadata": {},
   "outputs": [
    {
     "name": "stdout",
     "output_type": "stream",
     "text": [
      "['sessionId', 'gender', 'method', 'itemInSession', 'location', 'artist', 'page', 'userId', 'level', 'status', 'userAgent', 'song', 'length', 'page_Cancel', 'page_RollAdvert', 'page_ThumbsDown', 'page_SubmitUpgrade', 'page_NextSong', 'page_Settings', 'page_Error', 'page_Logout', 'page_Home', 'page_AddtoPlaylist', 'page_Downgrade', 'page_ThumbsUp', 'page_SaveSettings', 'page_About', 'page_Upgrade', 'page_Help', 'page_AddFriend', 'churn']\n"
     ]
    }
   ],
   "source": [
    "df = df.na.fill(0)\n",
    "\n",
    "#MODIFY IF SPACES\n",
    "@F.udf\n",
    "def removeSpace(x):\n",
    "    x = x.replace(' ', '')\n",
    "    return x\n",
    "\n",
    "df = df.withColumn('page',removeSpace('page')) #space getting in column name\n",
    "\n",
    "pages = set()\n",
    "pagesList = df.select('page').collect()\n",
    "removePage = ['CancellationConfirmation','SubmitDowngrade']\n",
    "\n",
    "for page in pagesList:\n",
    "    page = page.__getitem__(\"page\")\n",
    "    pages.add(page)\n",
    "\n",
    "@F.udf\n",
    "def getBinary(x,val):\n",
    "    if x==val:\n",
    "        return 1\n",
    "    return 0\n",
    "\n",
    "for page in list(pages):\n",
    "    df = df.withColumn('page_'+page,getBinary('page',lit(page)))\n",
    "\n",
    "df = df.withColumn('churn',reduce(add,[F.col(\"page_\"+x) for x in removePage]))\n",
    "\n",
    "for page in removePage:\n",
    "    pages.remove(page)\n",
    "    df = df.drop(\"page_\"+page)\n",
    "\n",
    "print(df.columns)"
   ]
  },
  {
   "cell_type": "markdown",
   "metadata": {},
   "source": [
    "In each page column - 0 indicates the event did not happen on this page, 1 indicates the event happened on this page\n",
    "\n",
    "I've defined churn as if the user reaches Cancellation Confirmation as well as Submit Downgrade page. The Downgrade page is included as downgrade also tells us the user did not like the app (some focus on the paid features perhaps).\n",
    "\n",
    "\n",
    "Many features can't be grouped as is, so I will do some feature transformation first. "
   ]
  },
  {
   "cell_type": "markdown",
   "metadata": {},
   "source": [
    "# Feature Engineering\n",
    "Once you've familiarized yourself with the data, build out the features you find promising to train your model on. To work with the full dataset, you can follow the following steps.\n",
    "- Write a script to extract the necessary features from the smaller subset of data\n",
    "- Ensure that your script is scalable, using the best practices discussed in Lesson 3\n",
    "- Try your script on the full data set, debugging your script if necessary\n",
    "\n",
    "If you are working in the classroom workspace, you can just extract features based on the small subset of data contained here. Be sure to transfer over this work to the larger dataset when you work on your Spark cluster."
   ]
  },
  {
   "cell_type": "markdown",
   "metadata": {},
   "source": [
    "If we look at the agents - the information isn't presented in a manner easy to accumulate. Here, the agent into one of four categories :\n",
    "- Linux OS\n",
    "- Windows OS\n",
    "- MAC OSX\n",
    "- Apple phone"
   ]
  },
  {
   "cell_type": "code",
   "execution_count": 39,
   "metadata": {},
   "outputs": [],
   "source": [
    "@F.udf\n",
    "def countAgent(x):\n",
    "    x = str.lower(x)\n",
    "    if \"linux\" in x:\n",
    "        return \"LINUX\"\n",
    "    if \"windows\" in x:\n",
    "        return \"WINDOWS\"\n",
    "    if \"iphone\" in x:\n",
    "        return \"IPHONE\"\n",
    "    return \"MAC\"\n",
    "\n",
    "df = df.withColumn('userAgent',countAgent('userAgent'))"
   ]
  },
  {
   "cell_type": "markdown",
   "metadata": {},
   "source": [
    "There are users over various locations in the USA. The state can be identified from the location. The user can be put into a region based on the state\n",
    "- North-East\n",
    "- South\n",
    "- West\n",
    "- MidWest"
   ]
  },
  {
   "cell_type": "code",
   "execution_count": null,
   "metadata": {},
   "outputs": [],
   "source": [
    "def getStates(x):\n",
    "    x = x.replace(\" \", \"\")\n",
    "    x = x.split(',')\n",
    "    return x[-1]\n",
    "\n",
    "def getRegion(x):\n",
    "    x = x.split('-')\n",
    "    x = x[0]\n",
    "    if x in ['NY','NJ','PA','NH','CT', 'ME','MA','RI','VT']:\n",
    "        return \"NORTHEAST\"\n",
    "    if x in ['DE','FL','GA','MD','NC','SC','VA','DC','WV','AL',\n",
    "             'KY','MS','TN','AR','LA','OK','TX']:\n",
    "        return \"SOUTH\"\n",
    "    if x in ['AK','CA','WA','OR', 'HI','ID','MT','UT','AZ',\n",
    "             'CO','NV','NM','WY']:\n",
    "        return \"WEST\"\n",
    "    if x in ['IN', 'IL','MI', 'MN','MO', 'WI','OH','IA','NE',\n",
    "             'WI','KS','ND','SD']:\n",
    "        return \"MIDWEST\"\n",
    "    return \"NORTHEAST\"\n",
    "\n",
    "locationtoStates = udf(lambda x: getStates(x), StringType())\n",
    "statesToRegion = udf(lambda x: getRegion(x), StringType())\n",
    "\n",
    "df = df.withColumn('location',locationtoStates('location'))\n",
    "df = df.withColumn('location',statesToRegion('location'))"
   ]
  },
  {
   "cell_type": "markdown",
   "metadata": {},
   "source": [
    "There can be several http status codes. Code 200 is success and anything else means the page isn't accessible - which could cause users to churn. That is why the status code is transformed so 1 represents a succesful page hit and 0 is a failure"
   ]
  },
  {
   "cell_type": "code",
   "execution_count": null,
   "metadata": {},
   "outputs": [],
   "source": [
    "df.groupby('status').count().show()\n",
    "def getStatus(x):\n",
    "    if x== 200:\n",
    "        return 1\n",
    "    return 0\n",
    "getNoErrorStatus = udf(lambda x: getStatus(x), IntegerType())\n",
    "df = df.withColumn('status',getNoErrorStatus('status'))\n",
    "df.show()"
   ]
  },
  {
   "cell_type": "markdown",
   "metadata": {},
   "source": [
    "Some artists could be popular on the app. Other artists might not be available/popular causing its fans to leave. So we can aggregate all the artists a user listens too. "
   ]
  },
  {
   "cell_type": "code",
   "execution_count": null,
   "metadata": {},
   "outputs": [],
   "source": [
    "@F.udf\n",
    "def simplifyArtists(x):\n",
    "    x = [item.lower() for item in x]\n",
    "    ans = \"\"\n",
    "    for item in x: \n",
    "        item = item.lower()\n",
    "        item = re.split(';|,|feat.|feat|ft.|ft|/',item)\n",
    "        for it in item:\n",
    "            ans += \" \" + it\n",
    "    x = \", \".join(x)\n",
    "    ans = ' '.join(ans.split())\n",
    "    return ans"
   ]
  },
  {
   "cell_type": "markdown",
   "metadata": {},
   "source": [
    "Now we can finally group the data based on the user+free/paid account. We are grouping on two levels, as a persons behaviour can be different based on which mode of subscription they have at the moment. \n",
    "- Artists are aggregated\n",
    "- Numeric columns are summed up (with the exception of song length - we take average)\n",
    "- Max is taken of the categoric column, many columns don't have variability over user. Example: gender, location. Also, churn must be taken as 1 if any event leads to a churn"
   ]
  },
  {
   "cell_type": "code",
   "execution_count": 40,
   "metadata": {},
   "outputs": [
    {
     "name": "stdout",
     "output_type": "stream",
     "text": [
      "+-----------------------------------------------------------------------------------------------------------------------------------------------------------------------------------------------------------------------------------------------------------------------------------------------------------------------------------------------------------------------------------------------------------------------------------------------------------------------------------------------------------------------------------------------------------------------------------------------------------------------------------------------------------------------------------------------------------------------------------------------------------------------------------------------------------------------------------------------------------------------------------------------------------------------------------------------------------------------------------------------------------------------------------------------------------------------------------------------------------------------------------------------------------------------------------------------------------------------------------------------------------------------------------------------------------------------------------------------------------------------------------------------------------------------------------------------------------------------------------------------------------------------------------------------------------------------------------------------------------------------------------------------------------------------------------------------------------------------------------------------------------------------------------------------------------------------------------------------------------------------------------------------------------------------------------------------------------------------------------------------------------------------------------------------------------------------------------------------------------------------------------------------------------------------------------------------------------------------------------------------------------------------------------------------------------------------------------------------------------------------------------------------------------------------------------------------------------------------------------------------------------------------------------------------------------------------------------------------------------------------------------------------------------------------------------------------------------------------------------------------------------------------------------------------------------------------------------------------------------------------------------------------------------------------------------------------------------------------------------------------------------------------------------------------------------------------------------------------------------------------------------------------------------------------------------------------------------------------------------------------------------------------------------------------------------------------------------------------------------------------------------------------------------------------------------------------------------------------------------------------------------------------------------------------------------------------------------------------------------------------------------------------------------------------------------------------------------------------------------------------------------------------------------------------------------------------------------------------------------------------------------------------------------------------------------------------------------------------------------------------------------------------------------------------------------------------------------------------------------------------------------------------------------------------------------------------------------------------------------------------------------------------------------------------------------------------------------------------------------------------------------------------------------------------------------------------------------------------------------------------------------------------------------------------------------------------------------------------------------------------------------------------------------------------------------------------------------------------------------------------------------------------------------------------------------------------------------------------------------------------------------------------------------------------------------------------------------------------------------------------------------------------------------------------------------------------------------------------------------------------------------------------------------------------------------------------------------------------------------------------------------------------------------------------------------------------------------------------------------------------------------------------------------------------------------------------------------------------------------------------------------------------------------------------------------------------------------------------------------------------------------------------------------------------------------------------------------------------------------------------------------------------------------------------------------------------------------------------------------------------------------------------------------------------------------------------------------------------------------------------------------------------------------------------------------------------------------------------------------------------------------------------------------------------------------------------------------------------------------------------------------------------------------------------------------------------------------------------------------------------------------------------------------------------------------------------------------------------------------------------------------------------------------------------------------------------------------------------------------------------------------------------------------------------------------------------------------------------------------------------------------------------------------------------------------------------------------------------------------------------------------------------------------------------------------------------------------------------------------------------------------------------------------------------------------------------------------------------------------------------------------------------------------------------------------------------------------------------------------------------------------------------------------------------------------------------------------------------------------------------------------------------------------------------------------------------------------------------------------------------------------------------------------------------------------------------------------------------------------------------------------------------------------------------------------------------------------------------------------------------------------------------------------------------------------------------------------------------------------------------------------------------------------------------------------------------------------------------------------------------------------------------------------------------------------------------------------------------------------------------------------------------------------------------------------------------------------------------------------------------------------------------------------------------------------------------------------------------------------------------------------------------------------------------------------------------------------------------------------------------------------------------------------------------------------------------------------------------------------------------------------------------------------------------------------------------------------------------------------------------------------------------------------------------------------------------------------------------------------------------------------------------------------------------------------------------------------------------------------------------------------------------------------------------------------------------------------------------------------------------------------------------------------------------------------------------------------------------------------------------------------------------------------------------------------------------------------------------------------------------------------------------------------------------------------------------------------------------------------------------------------------------------------------------------------------------------------------------------------------------------------------------------------------------------------------------------------------------------------------------------------------------------------------------------------------------------------------------------------------------------------------------------------------------------------------------------------------------------------------------------------------------------------------------------------------------------------------------------------------------------------------------------------------------------------------------------------------------------------------------------------------------------------------------------------------------------------------------------------------------------------------------------------------------------------------------------------------------------------------------------------------------------------------------------------------------------------------------------------------------------------------------------------------------------------------------------------------------------------------------------------------------------------------------------------------------------------------------------------------------------------------------------------------------------------------------------------------------------------------------------------------------------------------------------------------------------------------------------------------------------------------------------------------------------------------------------------------------------------------------------------------------------------------------------------------------------------------------------------------------------------------------------------------------------------------------------------------------------------------------------------------------------------------------------------------------------------------------------------------------------------------------------------------------------------------------------------------------------------------------------------------------------------------------------------------------------------------------------------------------------------------------------------------------------------------------------------------------------------------------------------------------------------------------------------------------------------------------------------------------------------------------------------------------------------------------------------------------------------------------------------------------------------------------------------------------------------------------------------------------------------------------------------------------------------------------------------------------------------------------------------------------------------------------------------------------------------------------------------------------------------------------------------------------------------------------------------------------------------------------------------------------------------------------------------------------------------------------------------------------------------------------------------------------------------------------------------------------------------------------------------------------------------------------------------------------------------------------------------------------------------------------------------------------------------------------------------------------------------------------------------------------------------------------------------------------------------------------------------------------------------------------------------------------------------------------------------------------------------------------------------------------------------------------------------------------------------------------------------------------------------------------------------------------------------------------------------------------------------------------------------------------------------------------------------------------------------------------------------------------------------------------------------------------------------------------------------------------------------------------------------------------------------------------------------------------------------------------------------------------------------------------------------------------------------------------------------------------------------------------------------------------------------------------------------------------------------------------------------------------------------------------------------------------------------------------------------------------------------------------------------------------------------------------------------------------------------------------------------------------------------------------------------------------------------------------------------------------------------------------------------------------------------------------------------------------------------------------------------------------------------------------------------------------------------------------------------------------------------------------------------------------------------------------------------------------------------------------------------------------------------------------------------------------------------------------------------------------------------------------------------------------------------------------------------------------------------------------------------------------------------------------------------------------------------------------------------------------------------------------------------------------------------------------------------------------------------------------------------------------------------------------------------------------------------------------------------------------------------------------------------------------------------------------------------------------------------------------------------------------------------------------------------------------------------------------------------------------------------------------------------------------------------------------------------------------------------------------------------------------------------------------------------------------------------------------------------------------------------------------------------------------------------------------------------------------------------------------------------------------------------------------------------------------------------------------------------------------------------------------------------------------------------------------------------------------------------------------------------------------------------------------------------------------------------------------------------------------------------------------------------------------------------------------------------------------------------------------------------------------------------------------------------------------------------------------------------------------------------------------------------------------------------------------------------------------------------------------------------------------------------------------------------------------------------------------------------------------------------------------------------------------------------------------------------------------------------------------------------------------------------------------------------------------------------------------------------------------------------------------------------------------------------------------------------------------------------------------------------------------------------------------------------------------------------------------------------------------------------------------------------------------------------------------------------------------------------------------------------------------------------------------------------------------------------------------------------------------------------------------------------------------------------------------------------+\n",
      "|simplifyArtists2(artist)                                                                                                                                                                                                                                                                                                                                                                                                                                                                                                                                                                                                                                                                                                                                                                                                                                                                                                                                                                                                                                                                                                                                                                                                                                                                                                                                                                                                                                                                                                                                                                                                                                                                                                                                                                                                                                                                                                                                                                                                                                                                                                                                                                                                                                                                                                                                                                                                                                                                                                                                                                                                                                                                                                                                                                                                                                                                                                                                                                                                                                                                                                                                                                                                                                                                                                                                                                                                                                                                                                                                                                                                                                                                                                                                                                                                                                                                                                                                                                                                                                                                                                                                                                                                                                                                                                                                                                                                                                                                                                                                                                                                                                                                                                                                                                                                                                                                                                                                                                                                                                                                                                                                                                                                                                                                                                                                                                                                                                                                                                                                                                                                                                                                                                                                                                                                                                                                                                                                                                                                                                                                                                                                                                                                                                                                                                                                                                                                                                                                                                                                                                                                                                                                                                                                                                                                                                                                                                                                                                                                                                                                                                                                                                                                                                                                                                                                                                                                                                                                                                                                                                                                                                                                                                                                                                                                                                                                                                                                                                                                                                                                                                                                                                                                                                                                                                                                                                                                                                                                                                                                                                                                                                                                                                                                                                                                                                                                                                                                                                                                                                                                                                                                                                                                                                                                                                                                                                                                                                                                                                                                                                                                                                                                                                                                                                                                                                                                                                                                                                                                                                                                                                                                                                                                                                                                                                                                                                                                                                                                                                                                                                                                                                                                                                                                                                                                                                                                                                                                                                                                                                                                                                                                                                                                                                                                                                                                                                                                                                                                                                                                                                                                                                                                                                                                                                                                                                                                                                                                                                                                                                                                                                                                                                                                                                                                                                                                                                                                                                                                                                                                                                                                                                                                                                                                                                                                                                                                                                                                                                                                                                                                                                                                                                                                                                                                                                                                                                                                                                                                                                                                                                                                                                                                                                                                                                                                                                                                                                                                                                                                                                                                                                                                                                                                                                                                                                                                                                                                                                                                                                                                                                                                                                                                                                                                                                                                                                                                                                                                                                                                                                                                                                                                                                                                                                                                                                                                                                                                                                                                                                                                                                                                                                                                                                                                                                                                                                                                                                                                                                                                                                                                                                                                                                                                                                                                                                                                                                                                                                                                                                                                                                                                                                                                                                                                                                                                                                                                                                                                                                                                                                                                                                                                                                                                                                                                                                                                                                                                                                                                                                                                                                                                                                                                                                                                                                                                                                                                                                                                                                                                                                   |\n",
      "+-----------------------------------------------------------------------------------------------------------------------------------------------------------------------------------------------------------------------------------------------------------------------------------------------------------------------------------------------------------------------------------------------------------------------------------------------------------------------------------------------------------------------------------------------------------------------------------------------------------------------------------------------------------------------------------------------------------------------------------------------------------------------------------------------------------------------------------------------------------------------------------------------------------------------------------------------------------------------------------------------------------------------------------------------------------------------------------------------------------------------------------------------------------------------------------------------------------------------------------------------------------------------------------------------------------------------------------------------------------------------------------------------------------------------------------------------------------------------------------------------------------------------------------------------------------------------------------------------------------------------------------------------------------------------------------------------------------------------------------------------------------------------------------------------------------------------------------------------------------------------------------------------------------------------------------------------------------------------------------------------------------------------------------------------------------------------------------------------------------------------------------------------------------------------------------------------------------------------------------------------------------------------------------------------------------------------------------------------------------------------------------------------------------------------------------------------------------------------------------------------------------------------------------------------------------------------------------------------------------------------------------------------------------------------------------------------------------------------------------------------------------------------------------------------------------------------------------------------------------------------------------------------------------------------------------------------------------------------------------------------------------------------------------------------------------------------------------------------------------------------------------------------------------------------------------------------------------------------------------------------------------------------------------------------------------------------------------------------------------------------------------------------------------------------------------------------------------------------------------------------------------------------------------------------------------------------------------------------------------------------------------------------------------------------------------------------------------------------------------------------------------------------------------------------------------------------------------------------------------------------------------------------------------------------------------------------------------------------------------------------------------------------------------------------------------------------------------------------------------------------------------------------------------------------------------------------------------------------------------------------------------------------------------------------------------------------------------------------------------------------------------------------------------------------------------------------------------------------------------------------------------------------------------------------------------------------------------------------------------------------------------------------------------------------------------------------------------------------------------------------------------------------------------------------------------------------------------------------------------------------------------------------------------------------------------------------------------------------------------------------------------------------------------------------------------------------------------------------------------------------------------------------------------------------------------------------------------------------------------------------------------------------------------------------------------------------------------------------------------------------------------------------------------------------------------------------------------------------------------------------------------------------------------------------------------------------------------------------------------------------------------------------------------------------------------------------------------------------------------------------------------------------------------------------------------------------------------------------------------------------------------------------------------------------------------------------------------------------------------------------------------------------------------------------------------------------------------------------------------------------------------------------------------------------------------------------------------------------------------------------------------------------------------------------------------------------------------------------------------------------------------------------------------------------------------------------------------------------------------------------------------------------------------------------------------------------------------------------------------------------------------------------------------------------------------------------------------------------------------------------------------------------------------------------------------------------------------------------------------------------------------------------------------------------------------------------------------------------------------------------------------------------------------------------------------------------------------------------------------------------------------------------------------------------------------------------------------------------------------------------------------------------------------------------------------------------------------------------------------------------------------------------------------------------------------------------------------------------------------------------------------------------------------------------------------------------------------------------------------------------------------------------------------------------------------------------------------------------------------------------------------------------------------------------------------------------------------------------------------------------------------------------------------------------------------------------------------------------------------------------------------------------------------------------------------------------------------------------------------------------------------------------------------------------------------------------------------------------------------------------------------------------------------------------------------------------------------------------------------------------------------------------------------------------------------------------------------------------------------------------------------------------------------------------------------------------------------------------------------------------------------------------------------------------------------------------------------------------------------------------------------------------------------------------------------------------------------------------------------------------------------------------------------------------------------------------------------------------------------------------------------------------------------------------------------------------------------------------------------------------------------------------------------------------------------------------------------------------------------------------------------------------------------------------------------------------------------------------------------------------------------------------------------------------------------------------------------------------------------------------------------------------------------------------------------------------------------------------------------------------------------------------------------------------------------------------------------------------------------------------------------------------------------------------------------------------------------------------------------------------------------------------------------------------------------------------------------------------------------------------------------------------------------------------------------------------------------------------------------------------------------------------------------------------------------------------------------------------------------------------------------------------------------------------------------------------------------------------------------------------------------------------------------------------------------------------------------------------------------------------------------------------------------------------------------------------------------------------------------------------------------------------------------------------------------------------------------------------------------------------------------------------------------------------------------------------------------------------------------------------------------------------------------------------------------------------------------------------------------------------------------------------------------------------------------------------------------------------------------------------------------------------------------------------------------------------------------------------------------------------------------------------------------------------------------------------------------------------------------------------------------------------------------------------------------------------------------------------------------------------------------------------------------------------------------------------------------------------------------------------------------------------------------------------------------------------------------------------------------------------------------------------------------------------------------------------------------------------------------------------------------------------------------------------------------------------------------------------------------------------------------------------------------------------------------------------------------------------------------------------------------------------------------------------------------------------------------------------------------------------------------------------------------------------------------------------------------------------------------------------------------------------------------------------------------------------------------------------------------------------------------------------------------------------------------------------------------------------------------------------------------------------------------------------------------------------------------------------------------------------------------------------------------------------------------------------------------------------------------------------------------------------------------------------------------------------------------------------------------------------------------------------------------------------------------------------------------------------------------------------------------------------------------------------------------------------------------------------------------------------------------------------------------------------------------------------------------------------------------------------------------------------------------------------------------------------------------------------------------------------------------------------------------------------------------------------------------------------------------------------------------------------------------------------------------------------------------------------------------------------------------------------------------------------------------------------------------------------------------------------------------------------------------------------------------------------------------------------------------------------------------------------------------------------------------------------------------------------------------------------------------------------------------------------------------------------------------------------------------------------------------------------------------------------------------------------------------------------------------------------------------------------------------------------------------------------------------------------------------------------------------------------------------------------------------------------------------------------------------------------------------------------------------------------------------------------------------------------------------------------------------------------------------------------------------------------------------------------------------------------------------------------------------------------------------------------------------------------------------------------------------------------------------------------------------------------------------------------------------------------------------------------------------------------------------------------------------------------------------------------------------------------------------------------------------------------------------------------------------------------------------------------------------------------------------------------------------------------------------------------------------------------------------------------------------------------------------------------------------------------------------------------------------------------------------------------------------------------------------------------------------------------------------------------------------------------------------------------------------------------------------------------------------------------------------------------------------------------------------------------------------------------------------------------------------------------------------------------------------------------------------------------------------------------------------------------------------------------------------------------------------------------------------------------------------------------------------------------------------------------------------------------------------------------------------------------------------------------------------------------------------------------------------------------------------------------------------------------------------------------------------------------------------------------------------------------------------------------------------------------------------------------------------------------------------------------------------------------------------------------------------------------------------------------------------------------------------------------------------------------------------------------------------------------------------------------------------------------------------------------------------------------------------------------------------------------------------------------------------------------------------------------------------------------------------------------------------------------------------------------------------------------------------------------------------------------------------------------------------------------------------------------------------------------------------------------------------------------------------------------------------------------------------------------------------------------------------------------------------------------------------------------------------------------------------------------------------------------------------------------------------------------------------------------------------------------------------------------------------------------------------------------------------------------------------+\n",
      "|scooter sweat circle channel for sondaschule botti radiohead trap confessional bower enya telefon academy nos refugee blossoms spoken alison pastorius ranks band cinema justin aviv as dan samy imogen lcd gotan playboy ruts swi fall rex count fire tateeze drowning allen da colbie lisa wyclef eyes bear paez sapp morten boys gaga curringham soda duet wild cherry richard weekend grace mojah garcãâ­a mike cat massive wheel mangione lily world show death darock trio cafãâ© andres jovi - hammer lambert new straightaway t.i. city valderramas hutcherson bettye bregovic darude palmer sebastian perry williams beta rage bang roy system brian lee smith michael folds machine xavier j. sirenia cent kings medicine arctic airwaves amduscia townshend chapman afi va thursday mraz james eminem nick girl samael dying fred astrud gustar n9ne max mccarley alicia knud voodoo stiff black elbow our matchbox chickenfoot creedence te dhu doors chris sonic nada martian aj brett ring hot schuyler timberlake denim heap biz prodigy southside les 5 jason beethoven apart afroman heroes ann in service trentemãâ¸ller spinners lady orchestra kid waits alejandro cradle d.o.e. pearl dc charly mosca dynamite no linkin bieber brothers foxx room sea moon baebes hammerfall maroon twins beyoncãâ© ratatat kelly_ district martin-in-the-fields sigur klaus wailers kelly union nine beyonce zevon heads alexis roberson elvis all-american matt dennen pool coffee west marina mdc anniversary randy guns kanye ohms gavin n' administration astrix basshunter fears coldplay dalaras nails hawaii jam tonãâ©! mogwai lagwagon carlton candlebox cccp avril eddy gilberto xx stories johnston huey underoath queens roben chip verve sneaky swag ni revival logic sound fabiana anneli cuarteto mediaeval anansie johnson st ms 2001 deep cudi dre bayside stare crosby_ zombie herãâ³is seville brass baby rilo palo sir incubus monkeys cave faithless withers campbell tanlines a alberta katy bloodhound roberto sheryl beastie keri rusko vhs pulp & police jaga kill santigold thurston stills quest lillies ocean godley island kaliko grover neville mouse ernie twenty door keys gordon beatz dobes jessica collective oj basie_ to tops allstars yang joan gym plushgun mellencamp this norman abel attell tet heartbreakers martin bad temper silverchair bob shunza costa tacvba sasha josh ethnik john news rosarius equilibrio pg-13 set santaolalla lifehouse clearwater atreyu stonewall wayne_ benoit drill van tq parr rocket lewis oliver shakira goran miley metro with badu houston lasit o'donnell r. life rob mozella 10th orishas sons bethany robert tom sade third days breed cardinali morrissey b-52's pickups slash barry washington fingers metallica 10 duncan kalkbrenner harmonia contreras t.i._ crawford deepest n.e.r.d. linea vince metric his dashboard dwight colour george bhroanain juiceman keren emarosa hammond foghat julia talking krauss chili audioslave nitzer shabba rick diamonds baby_ punk maire mountain jonas justice loeb t. format mustat battiato infected joaquin happens gill inch joe dalto kuryaki heat krizz arkenstone almond story norah calamaro fido armchair drake jermaine christophers do tracy los toni! o ross tab association nirvana white nash belle cross ivoryline whiskeytown patrol aly olivier nortec shadows against kiley jazz bridge david whitechapel apocalyptica marsha yeasayer cranberries ball bram gang fantan 50 bireli foo sobule mxpx coheed montgomery selection benassi fish car vessel depp_ empire you sour strokes nickelback tech kate bruce pilot damian three wolf chipmunks william station ben jumpsuit vecchioni may rihanna lil foolish creme andrew matthew night secondhand fisk called baker d-12 stone jes digitonal meets livingston_ fine sutch hotel tears evanescence gentry gotti cheese flobots peter halter pinhead hollywood bird jadakiss dizzy rejects ella galactic starr dillon ace dearland jorn resource violet mayer perkins illya destroy paul ryan p.o.d. camper string aerosmith wolfgang four kids yoakam conchords 16volt slipknot overkill milk lage freeman sub cardigans gees paramore marilyn lavigne lagrene at aventura em chicks alter lionel manowar talk gorillaz rubettes hives mack indiana long liquido chromeo cantilo something skillet adam jacksons farnham petty cambria bon panic jarabe pennywise quasi bjãâ¶rk y cliff why? snow rise elephant youth tony! mario hittman breeders angels arcade wayne cyrus or spineshank talent ambrosius brand chiddy dean seeed roses lau benny chains forest angie project train mushroom sedgley herbie fighters hancock lang tony cube tarot pendulum anis mc cheetah postal iron madredeus fossils cadeia phoenix onerepublic alvin mr.cheeks soundgarden joshua club degraw class of cher andy states marc asian down five clash clarkson cale pete blue bublãâ© harris yahir b.o.b erykah la india.arie swizz jonny jones year manson macaco marvin morissette marley good alain peppers bitch warren vandals alabama heavy royksopp kyoto alice disaster jarrell focus akon essential mayfield base beach out tim serenade newton billy jill sellers eyed little winans ice alliance fireflight tribe ying stealers jeremih mikel winehouse old teenagers gartner oyster rich undead marumari vampire bee cult miike mikkey dixie crumbland sergio sam boo osborne jaco big 13 peniston jamie church cece wet know peas dub johnny fedeli fat toy-box dobre silversun alanis perfect copeland bill degarmo vermeulen blake erin greenbaum apparatus things sheila ms. stevens blackmore's flight jazzist karaoke jr. fabolous deluxe halen charttraxx rãâ³s calle foundation 3 skunk ron marques goldfrapp tiãâ«sto jan soundsystem dave asia drecker franco mechanics supertramp cass is... crystal taylor son cooke alla jackson golden 7 richie de mar almost keith peace lord theater grusin worlds abuelos el zero camera yellowcard athena neutral orbit yonder kane cheatham reaãâ§ãâ£o incident mgmt rebirth california presents red tragedy amoral castles bash stars eric human breeder og i leon cornell darwin the caillat screaming beck 21 bobby crow walsh twista thompson air ones knoc-turn'al guaraldi auerbach fitzgerald timbaland interpol marriner soltero karen danity juanes circus attack banner lyttle blind deez and common gustavo tiger park dream rudd kevin key obscura lonely maylene lonnie fito nathanson faulkner ordo octopus dr. elliott karjalainen girls house tel limi-t blackalicious volt valenãâ§a erentxun goldfinger tse-tse toi will disco tuckwell sleater-kinney daddy regina spektor alceu concert gin modest sanz grant t's ramones deolinda sabina chuck amy boy placebo angus cage ripper mccombs brown ley lay adams mac ellis plain misãâ©rables filth earring lmfao frenzy hughes swv daniel pixies jean usher hilson beres amos curtis muse ebb two age pavel lavette groban radin_ tymers reel malzenstwo stereo damiens blink-182 jack salvatori                                                                                                                                                                                                                                                                                                                                                                                                                                                                                                                                                                                                                                                                                                                                                                                                                                                                                                                                                                                                                                                                                                                                                                                                                                                                                                                                                                                                                                                                                                                                                                                                                                                                                                                                                                                                                                                                                                                                                                                                                                                                                                                                                                                                                                                                                                                                                                                                                                                                                                                                                                                                                                                                                                                                                                                                                                                                                                                                                                                                                                                                                                                                                                                                                                                                                                                                                                                                                                                                                                                                                                                                                                                                                                                                                                                                                                                                                                                                                                                                                                                                                                                                                                                                                                                                                                                                                                                                                                                                                                                                                                                                                                                                                                                                                                                                                                                                                                                                                                                                                                                                                                                                                                                                                                                                                                                                                                                                                                                                                                                                                                                                                                                                                                                                                                                                                                                                                                                                                                                                                                                                                                                                                                                                                                                                                                                                                                                                                                                                                                                                                                                                                                                                                                                                                                                                                                                                                                                                                                                                                                                                                                                                                                                                                                                                                                                                                                                                                                                                                                                                                                                                                                                                                                                                                                                                                                                                                                                                                                                                                                                                                                                                                                                                                                                                                                                                                                                                                                                                                                                                                                                                                                                                                                                                                                                                                                                                                                                                                                                                                                                                                                                                                                                                                                                                                                                                                                                                                                                                                                                                                                                                                                                                                                                                                                                                                                                                                                                                                                                                                                                                                                                                                                                                                                                                                                                                                                                                                                                                                                                                                                                                                                                                                                                                                                                                                                                                                                            |\n",
      "|gi tavares scooter khaled mobile fulanito circle pee valentine marshall enya academy arthur nos travis spoken corinne moonbound dan imogen lcd swi prohom fall kale brandon gilder sparks bedingfield fozzy brava cherry peak danielle tha cat wheel gerbils planet bodom lily nebula-h widespread nashville rachid jovi lambert madlib hammer toto fear cream ragweed palmer restiform herb williams casualties gits mortiis michael hybrid onar folds def machine macisaac grandmaster voi sophie america arjona appleseed winston christina eminem pickett canned combichrist capone-e tengo alicia bloodshed groundation company black calling avenged \"chambao o'dell cartola lonesome rasheeda prince nada murphys goldthwait covenant ring bell krause angelic prodigy southside 5 pitbull victor cake spinners lady bachman staple kid k-os mamas renaud pearl chase charly cardinals marianne graffiti baumann angtoria kelis koala ratatat celtic sumo pornographers annett bocum man_ gary elvis devendra bareilles organ guns gavin explodes winslet mclachlan rainey luciano dalaras nails kinks carlton simpson braith williamson underoath babyface verve gabriela copy revival ricardo taha hecker winter mediaeval manchester 2001 cudi born afel luke pericos brass nevins des'ree withers a katy bombay fleck pulp clarika cosmo dritte imbruglia leslie leopards lunachicks thievery bohren zhanãâ© addiction couldn't magnetic 311 norman gators bebel rhymes decemberists cook carey martin bad temper (portuguese sheard yardbirds edith miko ian makzilla bhosle use man pearson faith set lifehouse clearwater atreyu steely blood_ armada van patty hamilton power case goes badu paralamas cassie mariza bodies ministry life apparat orishas motãâ¶rhead soul robert tom edition jo mary pantera belmonts pickups lobos pj yvonne family pink coko seagulls pausini duncan orchestre animal lou i've colossal killers garou cole rubio poisonblack britney above party lyle juiceman keren arkansas thug kudai rãâ¶yksopp quartet diamonds sovereign lange justice armin machu inch parton records becker data bryan flotsam dakotas tracy choir toni! cloud maine child mckenzies 1 china theory patrol hailie redhead murder louisan crack alkaline against hamid runner melua champs ball 17 horses colores zschech ver adjani seeds sugarland veto mxpx isabelle blondie samba top fonseca engage headhunterz gil check pilot depeche preston penguin wolf william station scherzinger fm heloisa schoenemann lil andrew job night alien o'riley aiden ry pepper none iglesias my velvet satomi seine gomez z-ro dmx starr muses calexico diabatãâ© perkins del julie p.o.d. aerosmith carter conley slipknot 16volt lemon nas shiny young ibrahim andrãâ©s jazzy lavigne nichols alter talk jem rodrãâ­guez water redrama musafir wolfmother valjak bon zawose foot bjãâ¶rk tellers y why? midlake quintet rise sami cast mansun arcade sting edwyn cash_ olstead kathy spineshank taha_ ulrich drives deville_ flo q-tip grandaddy stones prada femmes beger_ machãâ­n slum less ricchi telex mushroom nofx fighters gimmes queen raconteurs tarot postal ed iron darin hansard makeba danleers annie class marc paris asian cascada nancy mari harris limp buried miguel 'n knights la vaughan hawkins grip tod borgir morissette keneally good e pidãâ² hyland alice antonio flecktones out tim beach farm myriam stoopid little blades deathstars sheep voisine moth gielen p!nk tabernacle stealers wood h ten old cartel 2na vampire donnas investigators memphis singers submersed gratz soto jamie carefree master wet peas brendan fat simian silversun jah rubãâ©n alanis perfect copeland presley bill furious assurance bluegrass martini zz seu bernard panther blackmore's kmc ( drake_ fabolous frumpies parker groove weezer mc's calle 3 skylit franz goldfrapp cocteau asia (816 son reese jackson brightblack griffin keith parni paolo hush garcia nelson zero buuren starflyer bizarre paulinho rococãâ³ noize billie presents castles modjo x parra cruxshadows snaith's tiga the plan presets melodium walsh cinderella air enur juanes solaar tooth disturbed minute tiger dream scare kevin fabulosos hicks karsh remember x-1 snapcase ape house puff will from jericho tuckwell destiny's daddy lu operation modest t's natalie era sabina nicki distillers jaheim elliman manian magic boy afromental amy ma avant tones commitments jaci twin neil gonzalo remains lmfao hilson fraser usher day beres alert quijano terra gab brokencyde sharpe stereo blink-182 jack high leo slim lauryn rodrigo hayley emmylou caro rachael channel bjork confessional cinema mesh willie skynyrd ruts ray cephalic notorious devotchka allen colbie lisa hayes bear nevermore velasquez gaga ginuwine abba soda bachman-turner garcãâ­a atlas mike dept. show nelly cafãâ© dirty aid ashlee cuddy jim (w portishead swimming + niamh thile beta sugar lee smith decemberadio me xavier j. ayreon arctic scissor di souls chapman m.a. va revolution emancipator delerium aphex marling lost gustar shaikh te social m83 murs street scandinavian lamontagne seasons super bonobo o'donis between maelo pru jaxx est warriors das heap caesars asha pit bel arnelas afroman heroes diaz panda trentemãâ¸ller iration orchestra gillian daniels hates waits d.o.e. amanda matthews figurines no nevis b-real bieber brothers sea hammerfall maroon twins cerati-melero newton-john zeros valli martin-in-the-fields klaus katie union nine adrian mucky matt pool iio hilton west tijuana zimmers grupo mogwai alpert grass tokyo morrison brut stories queens asking ochs shatner eels skids epica furtado cuarteto higgins manuel johnson steve temple ivy dre filter supermode goats spooky rilo lif yeahs yandel harrison faithless milian schnauss witherspoon wears jeff tego group) police slyze never sarah lucky fernando stills floyd mormon prydz neville twenty brick lloyd hendricks basement darius t.i.) tet ricky wallace bob db's tacvba sisqo frank morcheeba inuit manitoba) dolly dap-kings kim audience harry josh oldfield siniestro mertens b erasure rocket shakira miley euge gaither bãâ©la numminen flogging musicale third mooskirchner clayderman weston urban barry washington brenda metallica survivor dahlia run-dmc neko harmonia jane's souljazz combo tobymac marginis shadow shapplin butthole zeppelin devin buddy hammond electronic title chili rick jonas manãâ¡ group cia. viola infected detroit joe krizz children lillian gold sadie secada s. calamaro drake savatage fantasy do diane wilson ligeia cutie sunny sleep vitalic oleta tenacious malcolm white nirvana culture shadows divine jazz game posse shawn mystikal gadãâº norful bram shop genovese 50 hatebreed vamp jane loop benassi mullins mcbride b. danna puddle tunstall empire ruben parente nickelback allyson introducing cups bruce damian boyz) tyler roch radicals three g jumpsuit violent strike foolish chosen minogue extreme grizzly chic morning part. madison monica camel evanescence montag gotti scouting collabos amigo peter tricks samim bird kimbrough danger mando birdy paul fluke string zahra four kids yoakam milk anouk cardigans 59 gees bobcat marilyn rhythm spalding chanel bk-one spearhead karrin lionel rklang orgy manowar pop deadmau5 turner iver molly adam jacksons amistades orbital antony cliff vanessa joseph connection benãâ©t mstrkr tony! cornelius selena scanu angels kirk mool damero bastards mouth tenco sondre benny forest vives molotov train carla cube anis graveworm mc irglova winds johan kearney chibite club soundgarden damn leona l states radney pandeiro cale sexy sanity ween papas dhany makem fuga sara hillsong dusty lamb kix alexisonfire sims throwing waters akon heidi billy eyed alliance ice therion sync bare pinker panteãâ³n men april spears roberts x1 rich carnage bodzin cappella edge miike marnie bee sticky miami sam oakenfold macbeth futureheads albertucho reich warrior johnny die chad reality momposina gyptian mars tub natasja kaskade doe vai blake nikki todd josãâ© boston metropolitan stevens presencer mcgraw der karaoke virgins delegation bright niia vikki halen charttraxx village juvenile foundation desanto tiãâ«sto cline lupe fuck richie transvision yo stern loco drexler oi el inspektah purple bloc bowie kajagoogoo london lopez lynyrd united coasters gray half surfers richter (formerly beck it kejsi loves totalt mcanuff marriner banner efecto and chapin common keyshia obscura lillix eleven dahl primal legend notes splithabit blackalicious quatro paper jon ferrer tommy jewel horizon kt gin sanz art cab grant catupecu della bambino hinder markie heath lighthouse placebo luis lay 10cc radin adams federales rush walden sly plain pixies yerba jean pet crookers marco rogers ronnie jag roots two syndicate turisas led weekend mercury panic! travie thomas blutengel radiohead slightly trap lala dolls justin as teng westenra roux fire insane fiasco wyclef paez pohlmann. richard petronio trick telepopmusik mos jennings massive dead world 12 ruiz death trio tv jocelyn mala silvio andres t.i. brandy ariel city destroyer sebastian zion perry blues bailey waking eagles system oceransky cano diomedes revoir cent kings stipe helmet thousand leaf love licks thursday mraz nick shi mau flying daylight mischief dying bullets silencio n9ne jãâ¤vla trews olivia jay-z matchbox ohr divinyls dhu money priscilla doors iamx) nes chris cooder sonic eternal syreeta hot timberlake denim traffic ott akon_ trigger wilcox ann france newhart local cradle allister static alejandro bizkit flash linkin cutugno frightened vergarabat dio hang lace ned kelly king luigi rakim cyndi bouyssou plimsouls thrice stephen horkyze remembering sparro nagual all-american tina yeltsin woman trustcompany marina kanye simmons n' sev corpse aphrodite fears coldplay ra beyond jam aaliyah hannah tonãâ©! carolina candlebox leticia gilberto eddy johnston derulo huey chip kyau rubalcaba dance they idol calo st enslaved sleepy deep goulding clapton lyfe baby starfield robbie sir incubus monkeys cave standstill mc5 will.i.am curved browne sheryl beastie lionheart dietrich plague jimmy evelino canadian oz box flyleaf mr. ocean island kaliko grover bentley jackie mouse door khaled_ final keys gordon beatz someone peeping collective oj bruni foxy maccabees mellencamp this escape mays pup os fragma costa method chappell aldean goals powder ethnik dutch press mariposa wine raly lowe biscuit veloso gate zoot adding butterflies wayne_ nile yankee tola kutt shearing rice kleerup with rufio but emf lasit moe. zinner hedberg slayer jamel mozella maximo alfredo days greene pat miss clown ready carlos vs. rolling iggy n.e.r.d. shelton freedy dwight claude foghat julia vermelho andain harrys krauss audioslave kenny upstarts cobra punk harvey mountain fort lucero mann fleetwood heat knife giant aeroplane funkee delirious? mudd darkness kris pogues caribou sonny laura live hannigan belle cross summer anthony living hall hamlisch simone ram kiley jorge smash kweli rosana lotus david asleep pointer mccoy brazilian chemical foo poveri augustana car carr you lukid vicente al\" westlife tech foals kate paisley letter religion ventures christopher bollinger daughtry ben kylie wizard syd rihanna matthew called reks wisin stone tal junior tone-loc landes vague jedi barrett jade alexandria rejects gimme ace allan jorn steel beautiful minds diva wolfgang kuniva barãâ£o lage lohan eye sub flock ransom_ jordin at republic t crisis elton romance imperials lykke franks skillet dylan hell lindsay moonbootica glory panic cãâ©line burrell another byrne busta phil candlemass twila jetsam wayne vocal talent rucker brand johnsons fingaz rahsaan buckcherry neon underground nikka hart monifah streets homosapien cowboy (turner) dies breathe j.j. pendulum micha bacilos phoenix amon species sixx crows sean of stray five ant clarkson collins gore cascades b.o.b erykah swizz ellie on jonny jones nacho manson kavanagh marvin stephan hindi major teardrop royksopp alabama buffett bolin faccini abdoulaye cutting alesana u2 yael we lethal jovanotti eat pablo trapt moorer berlin smokie misfits kramer dawn fee enigma overdrive veronicas winehouse cullum teenagers don zuleta undead gian dixie louvin clancy carrie 13 dum big easton church dub cure albert tito anoushka town electric vermeulen ke$ha dupri fiona funky k'naan kazee apparatus kingston wildflower album immolation welch anberlin enrique 2pac perisse gob force faithfull racer gerard wim owl jan soundsystem sonata dave midnight crystal beer gee bingham boris peterlicht almost buckley queensryche grusin mind radio eliseo pinback natasha camera navarro mgmt kit eric i leon cut southern vs dockstader madonna finizio first crow dropkick puppies ones vitamin viktor just badmarsh redman interpol soltero mims otis mychael park rudd maximilian lonely lonnie years edgewater octopus dr. karjalainen janet lynch garbage cherish martina valenãâ§a riddick oak total avett samples jefferson o.c. kills your regina spektor alceu status bomfunk elisa damien natives buell natiruts manilow brooke emma pain imagination river chali mesa filth godsmack b.i.g. holly envoy vitelli daniel trouble naãâ¯m amos caetano monte age novy judgement nonpalidece bebe jermaine sweat for horton sickest botti gallagher poison spence blossoms alison soraya up! truth band outwork wertz suicidal gotan kurt ou westside drowning portugal. da rae zac 2mex eyes baldwin skygreen boys marketa duet forever calhoun 6ths mode petey kruiz florence real montana kathleen new honorary nicole brother spice opeth distortion rage information cretu brian pavement mago triana m.i.a. paula carll rudolf rabbit kaoma manuva medicine butterfly airwaves mr afi ben's james girl newman datarock than corporation sisters dr stranglers max felt bonzo creedence rogg axe stevie biz charlie supertones jason weeds in service edward yankovic peligrosas us3 lucinda sambassadeur warlock hippies bargain talib feist vienna skyliners sucesso room baebes a.m. cherise tacuba beyoncãâ© killswitch felipe klepacki natas beyonce stripes hans frankie aguilera noel pig randy b2k jimenez blessthefall mendez basshunter sikth tritt mux avril sheena 8-ball xx au 20 apple dylon drive kingsley twisted grascals starship weird yamagata sound barrionuevo venegas wu-tang flag notas deejay team alela fanning bloodhound keri & numbers cannibal timony perrey kooks suzi slick desiderii twinkle shri commix mika jessica fate earthling counting to d punisher allstars minor ub40 patrick shines edgar butler gym neneh ozzy eisley more burn suaves pupy tendencies eve pussycat harcourt 3oh!3 enriquez ivan tune nutini akala john news nuevo barber axelrod especial: shankar j diao foxes abair amarth jake osbourne 1349 lewis saari mat fanny calderãâ³n duke okkervil paulina jump_ really rob vedder sade nels pie roxy music waite clint ashland mansell maria bring rodriguez crawford benatar jay ali wells metric his toby dashboard george 4 julieta pretenders mustat guasones loeb mindi joaquin dog anthrax arkenstone blonde rolando fatboy razah patton leap los bane skarhead polla passion ross crests haines rory light moor telepathic coro crew et vangaalen narada apocalyptica still name dimmu gang double lerche phantom aimee sevenfold department li villazon free corbin rainbow sour strokes banhart lyrics machinery darlene honeybears panzer arctica burzum may lauper rammstein joni lullaby santogold today hallows dumdum inspectah ugly d-12 homesick hotel blunt le presidents tears boogaloo flobots buena everclear bersuit hollywood jadakiss dizzy jacky craig dannii way yazoo ryan hill pink's willy sharon cosmic brad kierra lux october karma paramore aventura statik ethiopians gorillaz rubettes people underworld beirut mariah stewart poppin' something liquido ike fratellis eddie r jamiroquai walls gregson-williams iyaz pandora's akron snow mario terrasson mãâ¡rquez ahn fleet hole cyrus jeri prine marisa mathis broderick rida times dean krutch roses 2cents dolphins line chains project grimm lang joãâ£o bland valerio mãâ¶rker haunted simple finger adham aerolineas que onerepublic joshua pillar mickie nam bullion toy down blue hãâ©roes bublãâ© cobras ferdinand telepath maiden boyzone canto nouvelle piers deadman members jesse marley peppers bitch philharmonique scene gonzalez sick 702 mischa jarrell focus missy dash franti base redding jill tyrone medeski penate vista re-up diana devil diamond ester binary zimmer nico hevia vegas avenue yeah rock prozzak paradise franklin bush mount dj subhumans springsteen freddie rui kittin melon alphaville omar chi-lites blãâ¸f things mitch jr. emerald renee gigi ron fresh sia society cadillacs plies luscious mechanics townsend yankees taylor cooke hurts shinedown golden 7 de guy tokio deck volta benson margaret sanctus colby abuelos coverage reis neutral heartless edwards foster red stars bash kansas rancid bullet nando lazlo hieroglyphics caillat russell dion symphony star bobby screamin' twista esperanza ordinary timbaland generationals attack ashley barenboim blind bisbal delorean reverend smiths fito nathanson doubt blur allison elliott girls schweisser sky wallflowers pedra disco cepeda abelha found dro ferraby gonzãâ¡lez danzig faudel horror macy future duran angus spoon jacob glen brown clan mac susans underwood daddies watson lucy earring frenzy caifanes liam gipsy muse wormz lambert_ kaliko_ legend) bopper holy|\n",
      "+-----------------------------------------------------------------------------------------------------------------------------------------------------------------------------------------------------------------------------------------------------------------------------------------------------------------------------------------------------------------------------------------------------------------------------------------------------------------------------------------------------------------------------------------------------------------------------------------------------------------------------------------------------------------------------------------------------------------------------------------------------------------------------------------------------------------------------------------------------------------------------------------------------------------------------------------------------------------------------------------------------------------------------------------------------------------------------------------------------------------------------------------------------------------------------------------------------------------------------------------------------------------------------------------------------------------------------------------------------------------------------------------------------------------------------------------------------------------------------------------------------------------------------------------------------------------------------------------------------------------------------------------------------------------------------------------------------------------------------------------------------------------------------------------------------------------------------------------------------------------------------------------------------------------------------------------------------------------------------------------------------------------------------------------------------------------------------------------------------------------------------------------------------------------------------------------------------------------------------------------------------------------------------------------------------------------------------------------------------------------------------------------------------------------------------------------------------------------------------------------------------------------------------------------------------------------------------------------------------------------------------------------------------------------------------------------------------------------------------------------------------------------------------------------------------------------------------------------------------------------------------------------------------------------------------------------------------------------------------------------------------------------------------------------------------------------------------------------------------------------------------------------------------------------------------------------------------------------------------------------------------------------------------------------------------------------------------------------------------------------------------------------------------------------------------------------------------------------------------------------------------------------------------------------------------------------------------------------------------------------------------------------------------------------------------------------------------------------------------------------------------------------------------------------------------------------------------------------------------------------------------------------------------------------------------------------------------------------------------------------------------------------------------------------------------------------------------------------------------------------------------------------------------------------------------------------------------------------------------------------------------------------------------------------------------------------------------------------------------------------------------------------------------------------------------------------------------------------------------------------------------------------------------------------------------------------------------------------------------------------------------------------------------------------------------------------------------------------------------------------------------------------------------------------------------------------------------------------------------------------------------------------------------------------------------------------------------------------------------------------------------------------------------------------------------------------------------------------------------------------------------------------------------------------------------------------------------------------------------------------------------------------------------------------------------------------------------------------------------------------------------------------------------------------------------------------------------------------------------------------------------------------------------------------------------------------------------------------------------------------------------------------------------------------------------------------------------------------------------------------------------------------------------------------------------------------------------------------------------------------------------------------------------------------------------------------------------------------------------------------------------------------------------------------------------------------------------------------------------------------------------------------------------------------------------------------------------------------------------------------------------------------------------------------------------------------------------------------------------------------------------------------------------------------------------------------------------------------------------------------------------------------------------------------------------------------------------------------------------------------------------------------------------------------------------------------------------------------------------------------------------------------------------------------------------------------------------------------------------------------------------------------------------------------------------------------------------------------------------------------------------------------------------------------------------------------------------------------------------------------------------------------------------------------------------------------------------------------------------------------------------------------------------------------------------------------------------------------------------------------------------------------------------------------------------------------------------------------------------------------------------------------------------------------------------------------------------------------------------------------------------------------------------------------------------------------------------------------------------------------------------------------------------------------------------------------------------------------------------------------------------------------------------------------------------------------------------------------------------------------------------------------------------------------------------------------------------------------------------------------------------------------------------------------------------------------------------------------------------------------------------------------------------------------------------------------------------------------------------------------------------------------------------------------------------------------------------------------------------------------------------------------------------------------------------------------------------------------------------------------------------------------------------------------------------------------------------------------------------------------------------------------------------------------------------------------------------------------------------------------------------------------------------------------------------------------------------------------------------------------------------------------------------------------------------------------------------------------------------------------------------------------------------------------------------------------------------------------------------------------------------------------------------------------------------------------------------------------------------------------------------------------------------------------------------------------------------------------------------------------------------------------------------------------------------------------------------------------------------------------------------------------------------------------------------------------------------------------------------------------------------------------------------------------------------------------------------------------------------------------------------------------------------------------------------------------------------------------------------------------------------------------------------------------------------------------------------------------------------------------------------------------------------------------------------------------------------------------------------------------------------------------------------------------------------------------------------------------------------------------------------------------------------------------------------------------------------------------------------------------------------------------------------------------------------------------------------------------------------------------------------------------------------------------------------------------------------------------------------------------------------------------------------------------------------------------------------------------------------------------------------------------------------------------------------------------------------------------------------------------------------------------------------------------------------------------------------------------------------------------------------------------------------------------------------------------------------------------------------------------------------------------------------------------------------------------------------------------------------------------------------------------------------------------------------------------------------------------------------------------------------------------------------------------------------------------------------------------------------------------------------------------------------------------------------------------------------------------------------------------------------------------------------------------------------------------------------------------------------------------------------------------------------------------------------------------------------------------------------------------------------------------------------------------------------------------------------------------------------------------------------------------------------------------------------------------------------------------------------------------------------------------------------------------------------------------------------------------------------------------------------------------------------------------------------------------------------------------------------------------------------------------------------------------------------------------------------------------------------------------------------------------------------------------------------------------------------------------------------------------------------------------------------------------------------------------------------------------------------------------------------------------------------------------------------------------------------------------------------------------------------------------------------------------------------------------------------------------------------------------------------------------------------------------------------------------------------------------------------------------------------------------------------------------------------------------------------------------------------------------------------------------------------------------------------------------------------------------------------------------------------------------------------------------------------------------------------------------------------------------------------------------------------------------------------------------------------------------------------------------------------------------------------------------------------------------------------------------------------------------------------------------------------------------------------------------------------------------------------------------------------------------------------------------------------------------------------------------------------------------------------------------------------------------------------------------------------------------------------------------------------------------------------------------------------------------------------------------------------------------------------------------------------------------------------------------------------------------------------------------------------------------------------------------------------------------------------------------------------------------------------------------------------------------------------------------------------------------------------------------------------------------------------------------------------------------------------------------------------------------------------------------------------------------------------------------------------------------------------------------------------------------------------------------------------------------------------------------------------------------------------------------------------------------------------------------------------------------------------------------------------------------------------------------------------------------------------------------------------------------------------------------------------------------------------------------------------------------------------------------------------------------------------------------------------------------------------------------------------------------------------------------------------------------------------------------------------------------------------------------------------------------------------------------------------------------------------------------------------------------------------------------------------------------------------------------------------------------------------------------------------------------------------------------------------------------------------------------------------------------------------------------------------------------------------------------------------------------------------------------------------------------------------------------------------------------------------------------------------------------------------------------------------------------------------------------------------------------------------------------------------------------------------------------------------------------------------------------------------------------------------------------------------------------------------------------------------------------------------------------------------------------------------------------------------------------------------------------------------------------------------------------------------------------------------------------------------------------------------------------------------------------------------------------------------------------------------------------------------------------------------------------------------------------------------------------------------------------------------------------------------------------------------------------------------------------------------------------------------------------------------------------------------------------------------------------------------------------------------------------------------------------------------------------------------------------------------------------------------------------------------------------------------------------------------------------------------------------------------------------------------------------------------------------------------------------------------------------------------------------------------------------------------------------------------------------------------------------------------------------------------------------------------------------------------------+\n",
      "only showing top 2 rows\n",
      "\n",
      "+------+-----+------+-----------------+------+--------+---------+------+---------------+------------------+------------+---------+-----------+------------------+--------------+---------------+----------+--------------+-------------+-----------+---------+-----------------+----------+-------------+-------------+-----+-----------------------------------------------------------------------------------------------------------------------------------------------------------------------------------------------------------------------------------------------------------------------------------------------------------------------------------------------------------------------------------------------------------------------------------------------------------------------------------------------------------------------------------------------------------------------------------------------------------------------------------------------------------------------------------------------------------------------------------------------------------------------------------------------------------------------------------------------------------------------------------------------------------------------------------------------------------------------------------------------------------------------------------------------------------------------------------------------------------------------------------------------------------------------------------------------------------------------------------------------------------------------------------------------------------------------------------------------------------------------------------------------------------------------------------------------------------------------------------------------------------------------------------------------------------------------------------------------------------------------------------------------------------------------------------------------------------------------------------------------------------------------------------------------------------------------------------------------------------------------------------------------------------------------------------------------------------------------------------------------------------------------------------------------------------------------------------------------------------------------------------------------------------------------------------------------------------------------------------------------------------------------------------------------------------------------------------------------------------------------------------------------------------------------------------------------------------------------------------------------------------------------------------------------------------------------------------------------------------------------------------------------------------------------------------------------------------------------------------------------------------------------------------------------------------------------------------------------------------------------------------------------------------------------------------------------------------------------------------------------------------------------------------------------------------------------------------------------------------------------------------------------------------------------------------------------------------------------------------------------------------------------------------------------------------------------------------------------------------------------------------------------------------------------------------------------------------------------------------------------------------------------------------------------------------------------------------------------------------------------------------------------------------------------------------------------------------------------------------------------------------------------------------------------------------------------------------------------------------------------------------------------------------------------------------------------------------------------------------------------------------------------------------------------------------------------------------------------------------------------------------------------------------------------------------------------------------------------------------------------------------------------------------------------------------------------------------------------------------------------------------------------------------------------------------------------------------------------------------------------------------------------------------------------------------------------------------------------------------------------------------------------------------------------------------------------------------------------------------------------------------------------------------------------------------------------------------------------------------------------------------------------------------------------------------------------------------------------------------------------------------------------------------------------------------------------------------------------------------------------------------------------------------------------------------------------------------------------------------------------------------------------------------------------------------------------------------------------------------------------------------------------------------------------------------------------------------------------------------------------------------------------------------------------------------------------------------------------------------------------------------------------------------------------------------------------------------------------------------------------------------------------------------------------------------------------------------------------------------------------------------------------------------------------------------------------------------------------------------------------------------------------------------------------------------------------------------------------------------------------------------------------------------------------------------------------------------------------------------------------------------------------------------------------------------------------------------------------------------------------------------------------------------------------------------------------------------------------------------------------------------------------------------------------------------------------------------------------------------------------------------------------------------------------------------------------------------------------------------------------------------------------------------------------------------------------------------------------------------------------------------------------------------------------------------------------------------------------------------------------------------------------------------------------------------------------------------------------------------------------------------------------+\n",
      "|userId|level|status|length           |gender|location|userAgent|action|page_ThumbsDown|page_SubmitUpgrade|page_Upgrade|page_Help|page_Logout|page_AddtoPlaylist|page_AddFriend|page_RollAdvert|page_About|page_Downgrade|page_NextSong|page_Cancel|page_Home|page_SaveSettings|page_Error|page_ThumbsUp|page_Settings|churn|artist                                                                                                                                                                                                                                                                                                                                                                                                                                                                                                                                                                                                                                                                                                                                                                                                                                                                                                                                                                                                                                                                                                                                                                                                                                                                                                                                                                                                                                                                                                                                                                                                                                                                                                                                                                                                                                                                                                                                                                                                                                                                                                                                                                                                                                                                                                                                                                                                                                                                                                                                                                                                                                                                                                                                                                                                                                                                                                                                                                                                                                                                                                                                                                                                                                                                                                                                                                                                                                                                                                                                                                                                                                                                                                                                                                                                                                                                                                                                                                                                                                                                                                                                                                                                                                                                                                                                                                                                                                                                                                                                                                                                                                                                                                                                                                                                                                                                                                                                                                                                                                                                                                                                                                                                                                                                                                                                                                                                                                                                                                                                                                                                                                                                                                                                                                                                                                                                                                                                                                                                                                                                                                                                                                                                                                                                                                                                                                                                                                                                                                                                                                                                                                                                                                                                                                                                                                                                                                                                                                                                                                                                                                                                         |\n",
      "+------+-----+------+-----------------+------+--------+---------+------+---------------+------------------+------------+---------+-----------+------------------+--------------+---------------+----------+--------------+-------------+-----------+---------+-----------------+----------+-------------+-------------+-----+-----------------------------------------------------------------------------------------------------------------------------------------------------------------------------------------------------------------------------------------------------------------------------------------------------------------------------------------------------------------------------------------------------------------------------------------------------------------------------------------------------------------------------------------------------------------------------------------------------------------------------------------------------------------------------------------------------------------------------------------------------------------------------------------------------------------------------------------------------------------------------------------------------------------------------------------------------------------------------------------------------------------------------------------------------------------------------------------------------------------------------------------------------------------------------------------------------------------------------------------------------------------------------------------------------------------------------------------------------------------------------------------------------------------------------------------------------------------------------------------------------------------------------------------------------------------------------------------------------------------------------------------------------------------------------------------------------------------------------------------------------------------------------------------------------------------------------------------------------------------------------------------------------------------------------------------------------------------------------------------------------------------------------------------------------------------------------------------------------------------------------------------------------------------------------------------------------------------------------------------------------------------------------------------------------------------------------------------------------------------------------------------------------------------------------------------------------------------------------------------------------------------------------------------------------------------------------------------------------------------------------------------------------------------------------------------------------------------------------------------------------------------------------------------------------------------------------------------------------------------------------------------------------------------------------------------------------------------------------------------------------------------------------------------------------------------------------------------------------------------------------------------------------------------------------------------------------------------------------------------------------------------------------------------------------------------------------------------------------------------------------------------------------------------------------------------------------------------------------------------------------------------------------------------------------------------------------------------------------------------------------------------------------------------------------------------------------------------------------------------------------------------------------------------------------------------------------------------------------------------------------------------------------------------------------------------------------------------------------------------------------------------------------------------------------------------------------------------------------------------------------------------------------------------------------------------------------------------------------------------------------------------------------------------------------------------------------------------------------------------------------------------------------------------------------------------------------------------------------------------------------------------------------------------------------------------------------------------------------------------------------------------------------------------------------------------------------------------------------------------------------------------------------------------------------------------------------------------------------------------------------------------------------------------------------------------------------------------------------------------------------------------------------------------------------------------------------------------------------------------------------------------------------------------------------------------------------------------------------------------------------------------------------------------------------------------------------------------------------------------------------------------------------------------------------------------------------------------------------------------------------------------------------------------------------------------------------------------------------------------------------------------------------------------------------------------------------------------------------------------------------------------------------------------------------------------------------------------------------------------------------------------------------------------------------------------------------------------------------------------------------------------------------------------------------------------------------------------------------------------------------------------------------------------------------------------------------------------------------------------------------------------------------------------------------------------------------------------------------------------------------------------------------------------------------------------------------------------------------------------------------------------------------------------------------------------------------------------------------------------------------------------------------------------------------------------------------------------------------------------------------------------------------------------------------------------------------------------------------------------------------------------------------------------------------------------------------------------------------------------------------------------------------------------------------------------------------------------------------------------------------------------------+\n",
      "|10    |paid |730   |209.8948081886793|M     |SOUTH   |MAC      |795   |4.0            |0.0               |0.0         |1.0      |11.0       |9.0               |12.0          |1.0            |2.0       |7.0           |673.0        |0.0        |30.0     |1.0              |0.0       |37.0         |7.0          |0.0  |scooter sweat circle channel for sondaschule botti radiohead trap confessional bower enya telefon academy nos refugee blossoms spoken alison pastorius ranks band cinema justin aviv as dan samy imogen lcd gotan playboy ruts swi fall rex count fire tateeze drowning allen da colbie lisa wyclef eyes bear paez sapp morten boys gaga curringham soda duet wild cherry richard weekend grace mojah garcãâ­a mike cat massive wheel mangione lily world show death darock trio cafãâ© andres jovi - hammer lambert new straightaway t.i. city valderramas hutcherson bettye bregovic darude palmer sebastian perry williams beta rage bang roy system brian lee smith michael folds machine xavier j. sirenia cent kings medicine arctic airwaves amduscia townshend chapman afi va thursday mraz james eminem nick girl samael dying fred astrud gustar n9ne max mccarley alicia knud voodoo stiff black elbow our matchbox chickenfoot creedence te dhu doors chris sonic nada martian aj brett ring hot schuyler timberlake denim heap biz prodigy southside les 5 jason beethoven apart afroman heroes ann in service trentemãâ¸ller spinners lady orchestra kid waits alejandro cradle d.o.e. pearl dc charly mosca dynamite no linkin bieber brothers foxx room sea moon baebes hammerfall maroon twins beyoncãâ© ratatat kelly_ district martin-in-the-fields sigur klaus wailers kelly union nine beyonce zevon heads alexis roberson elvis all-american matt dennen pool coffee west marina mdc anniversary randy guns kanye ohms gavin n' administration astrix basshunter fears coldplay dalaras nails hawaii jam tonãâ©! mogwai lagwagon carlton candlebox cccp avril eddy gilberto xx stories johnston huey underoath queens roben chip verve sneaky swag ni revival logic sound fabiana anneli cuarteto mediaeval anansie johnson st ms 2001 deep cudi dre bayside stare crosby_ zombie herãâ³is seville brass baby rilo palo sir incubus monkeys cave faithless withers campbell tanlines a alberta katy bloodhound roberto sheryl beastie keri rusko vhs pulp & police jaga kill santigold thurston stills quest lillies ocean godley island kaliko grover neville mouse ernie twenty door keys gordon beatz dobes jessica collective oj basie_ to tops allstars yang joan gym plushgun mellencamp this norman abel attell tet heartbreakers martin bad temper silverchair bob shunza costa tacvba sasha josh ethnik john news rosarius equilibrio pg-13 set santaolalla lifehouse clearwater atreyu stonewall wayne_ benoit drill van tq parr rocket lewis oliver shakira goran miley metro with badu houston lasit o'donnell r. life rob mozella 10th orishas sons bethany robert tom sade third days breed cardinali morrissey b-52's pickups slash barry washington fingers metallica 10 duncan kalkbrenner harmonia contreras t.i._ crawford deepest n.e.r.d. linea vince metric his dashboard dwight colour george bhroanain juiceman keren emarosa hammond foghat julia talking krauss chili audioslave nitzer shabba rick diamonds baby_ punk maire mountain jonas justice loeb t. format mustat battiato infected joaquin happens gill inch joe dalto kuryaki heat krizz arkenstone almond story norah calamaro fido armchair drake jermaine christophers do tracy los toni! o ross tab association nirvana white nash belle cross ivoryline whiskeytown patrol aly olivier nortec shadows against kiley jazz bridge david whitechapel apocalyptica marsha yeasayer cranberries ball bram gang fantan 50 bireli foo sobule mxpx coheed montgomery selection benassi fish car vessel depp_ empire you sour strokes nickelback tech kate bruce pilot damian three wolf chipmunks william station ben jumpsuit vecchioni may rihanna lil foolish creme andrew matthew night secondhand fisk called baker d-12 stone jes digitonal meets livingston_ fine sutch hotel tears evanescence gentry gotti cheese flobots peter halter pinhead hollywood bird jadakiss dizzy rejects ella galactic starr dillon ace dearland jorn resource violet mayer perkins illya destroy paul ryan p.o.d. camper string aerosmith wolfgang four kids yoakam conchords 16volt slipknot overkill milk lage freeman sub cardigans gees paramore marilyn lavigne lagrene at aventura em chicks alter lionel manowar talk gorillaz rubettes hives mack indiana long liquido chromeo cantilo something skillet adam jacksons farnham petty cambria bon panic jarabe pennywise quasi bjãâ¶rk y cliff why? snow rise elephant youth tony! mario hittman breeders angels arcade wayne cyrus or spineshank talent ambrosius brand chiddy dean seeed roses lau benny chains forest angie project train mushroom sedgley herbie fighters hancock lang tony cube tarot pendulum anis mc cheetah postal iron madredeus fossils cadeia phoenix onerepublic alvin mr.cheeks soundgarden joshua club degraw class of cher andy states marc asian down five clash clarkson cale pete blue bublãâ© harris yahir b.o.b erykah la india.arie swizz jonny jones year manson macaco marvin morissette marley good alain peppers bitch warren vandals alabama heavy royksopp kyoto alice disaster jarrell focus akon essential mayfield base beach out tim serenade newton billy jill sellers eyed little winans ice alliance fireflight tribe ying stealers jeremih mikel winehouse old teenagers gartner oyster rich undead marumari vampire bee cult miike mikkey dixie crumbland sergio sam boo osborne jaco big 13 peniston jamie church cece wet know peas dub johnny fedeli fat toy-box dobre silversun alanis perfect copeland bill degarmo vermeulen blake erin greenbaum apparatus things sheila ms. stevens blackmore's flight jazzist karaoke jr. fabolous deluxe halen charttraxx rãâ³s calle foundation 3 skunk ron marques goldfrapp tiãâ«sto jan soundsystem dave asia drecker franco mechanics supertramp cass is... crystal taylor son cooke alla jackson golden 7 richie de mar almost keith peace lord theater grusin worlds abuelos el zero camera yellowcard athena neutral orbit yonder kane cheatham reaãâ§ãâ£o incident mgmt rebirth california presents red tragedy amoral castles bash stars eric human breeder og i leon cornell darwin the caillat screaming beck 21 bobby crow walsh twista thompson air ones knoc-turn'al guaraldi auerbach fitzgerald timbaland interpol marriner soltero karen danity juanes circus attack banner lyttle blind deez and common gustavo tiger park dream rudd kevin key obscura lonely maylene lonnie fito nathanson faulkner ordo octopus dr. elliott karjalainen girls house tel limi-t blackalicious volt valenãâ§a erentxun goldfinger tse-tse toi will disco tuckwell sleater-kinney daddy regina spektor alceu concert gin modest sanz grant t's ramones deolinda sabina chuck amy boy placebo angus cage ripper mccombs brown ley lay adams mac ellis plain misãâ©rables filth earring lmfao frenzy hughes swv daniel pixies jean usher hilson beres amos curtis muse ebb two age pavel lavette groban radin_ tymers reel malzenstwo stereo damiens blink-182 jack salvatori|\n",
      "+------+-----+------+-----------------+------+--------+---------+------+---------------+------------------+------------+---------+-----------+------------------+--------------+---------------+----------+--------------+-------------+-----------+---------+-----------------+----------+-------------+-------------+-----+-----------------------------------------------------------------------------------------------------------------------------------------------------------------------------------------------------------------------------------------------------------------------------------------------------------------------------------------------------------------------------------------------------------------------------------------------------------------------------------------------------------------------------------------------------------------------------------------------------------------------------------------------------------------------------------------------------------------------------------------------------------------------------------------------------------------------------------------------------------------------------------------------------------------------------------------------------------------------------------------------------------------------------------------------------------------------------------------------------------------------------------------------------------------------------------------------------------------------------------------------------------------------------------------------------------------------------------------------------------------------------------------------------------------------------------------------------------------------------------------------------------------------------------------------------------------------------------------------------------------------------------------------------------------------------------------------------------------------------------------------------------------------------------------------------------------------------------------------------------------------------------------------------------------------------------------------------------------------------------------------------------------------------------------------------------------------------------------------------------------------------------------------------------------------------------------------------------------------------------------------------------------------------------------------------------------------------------------------------------------------------------------------------------------------------------------------------------------------------------------------------------------------------------------------------------------------------------------------------------------------------------------------------------------------------------------------------------------------------------------------------------------------------------------------------------------------------------------------------------------------------------------------------------------------------------------------------------------------------------------------------------------------------------------------------------------------------------------------------------------------------------------------------------------------------------------------------------------------------------------------------------------------------------------------------------------------------------------------------------------------------------------------------------------------------------------------------------------------------------------------------------------------------------------------------------------------------------------------------------------------------------------------------------------------------------------------------------------------------------------------------------------------------------------------------------------------------------------------------------------------------------------------------------------------------------------------------------------------------------------------------------------------------------------------------------------------------------------------------------------------------------------------------------------------------------------------------------------------------------------------------------------------------------------------------------------------------------------------------------------------------------------------------------------------------------------------------------------------------------------------------------------------------------------------------------------------------------------------------------------------------------------------------------------------------------------------------------------------------------------------------------------------------------------------------------------------------------------------------------------------------------------------------------------------------------------------------------------------------------------------------------------------------------------------------------------------------------------------------------------------------------------------------------------------------------------------------------------------------------------------------------------------------------------------------------------------------------------------------------------------------------------------------------------------------------------------------------------------------------------------------------------------------------------------------------------------------------------------------------------------------------------------------------------------------------------------------------------------------------------------------------------------------------------------------------------------------------------------------------------------------------------------------------------------------------------------------------------------------------------------------------------------------------------------------------------------------------------------------------------------------------------------------------------------------------------------------------------------------------------------------------------------------------------------------------------------------------------------------------------------------------------------------------------------------------------------------------------------------------------------------------------------------------------------------------------------------------------------------------------------------------------------------------------------------------------------------------------------------------------------------------------------------------------------------------------------------------------------------------------------------------------------------------------------------------------------------------------------------------------------------------------------------------------------------------------------------------------------------------------------------------------------+\n",
      "only showing top 1 row\n",
      "\n"
     ]
    }
   ],
   "source": [
    "DF = df.groupby('userId','level').agg(sum(\"status\").alias('status'),\\\n",
    "                                      avg('length').alias('length'),\\\n",
    "                                      max(\"gender\").alias('gender'),\\\n",
    "                                      max(\"location\").alias('location'),\\\n",
    "                                      max(\"userAgent\").alias('userAgent'),\\\n",
    "                                      count(\"*\").alias('action'),\\\n",
    "                                      sum(\"page_ThumbsDown\").alias(\"page_ThumbsDown\"),\\\n",
    "                                      sum(\"page_SubmitUpgrade\").alias(\"page_SubmitUpgrade\"),\\\n",
    "                                      sum(\"page_Upgrade\").alias(\"page_Upgrade\"),\\\n",
    "                                      sum(\"page_Help\").alias(\"page_Help\"),\\\n",
    "                                      sum(\"page_Logout\").alias(\"page_Logout\"),\\\n",
    "                                      sum(\"page_AddtoPlaylist\").alias(\"page_AddtoPlaylist\"),\\\n",
    "                                      sum(\"page_AddFriend\").alias(\"page_AddFriend\"),\\\n",
    "                                      sum(\"page_RollAdvert\").alias(\"page_RollAdvert\"),\\\n",
    "                                      sum(\"page_About\").alias(\"page_About\"),\\\n",
    "                                      sum(\"page_Downgrade\").alias(\"page_Downgrade\"),\\\n",
    "                                      sum(\"page_NextSong\").alias(\"page_NextSong\"),\\\n",
    "                                      sum(\"page_Cancel\").alias(\"page_Cancel\"),\\\n",
    "                                      sum(\"page_Home\").alias(\"page_Home\"),\\\n",
    "                                      sum(\"page_SaveSettings\").alias(\"page_SaveSettings\"),\\\n",
    "                                      sum(\"page_Error\").alias(\"page_Error\"),\\\n",
    "                                      sum(\"page_ThumbsUp\").alias(\"page_ThumbsUp\"),\\\n",
    "                                      sum(\"page_Settings\").alias(\"page_Settings\"),\\\n",
    "                                      max(\"churn\").alias('churn'),\\\n",
    "                                      simplifyArtists(F.collect_list(\"artist\")).alias(\"artist\")\n",
    "                                     ).sort('userId') # NEW DATAFRAME\n",
    "\n",
    "\n",
    "@F.udf\n",
    "def simplifyArtists2(x):\n",
    "    x = list(set(x.split()))\n",
    "    return (' '.join(x))\n",
    "\n",
    "DF.select(simplifyArtists2('artist')).show(2,False)\n",
    "DF = DF.withColumn('artist',simplifyArtists2('artist'))\n",
    "DF.show(1,False)"
   ]
  },
  {
   "cell_type": "markdown",
   "metadata": {},
   "source": [
    "# Modeling\n",
    "Split the full dataset into train, test, and validation sets. Test out several of the machine learning methods you learned. Evaluate the accuracy of the various models, tuning parameters as necessary. Determine your winning model based on test accuracy and report results on the validation set. Since the churned users are a fairly small subset, I suggest using F1 score as the metric to optimize."
   ]
  },
  {
   "cell_type": "code",
   "execution_count": 43,
   "metadata": {
    "scrolled": true
   },
   "outputs": [],
   "source": []
  },
  {
   "cell_type": "code",
   "execution_count": 44,
   "metadata": {},
   "outputs": [
    {
     "name": "stdout",
     "output_type": "stream",
     "text": [
      "['action', 'length', 'status', 'page_Cancel', 'page_RollAdvert', 'page_ThumbsDown', 'page_SubmitUpgrade', 'page_NextSong', 'page_Settings', 'page_Error', 'page_Logout', 'page_Home', 'page_AddtoPlaylist', 'page_Downgrade', 'page_ThumbsUp', 'page_SaveSettings', 'page_About', 'page_Upgrade', 'page_Help', 'page_AddFriend', 'level', 'gender', 'location', 'userAgent', 'artist']\n",
      "25\n",
      "[StringIndexer_4f6db73b08b848b806b4, OneHotEncoderEstimator_402f97cb9a817d5751e5, StringIndexer_4b3b8cdde502df8f34ae, OneHotEncoderEstimator_4cb18621e1a8afd9ad2c, StringIndexer_4208a096231301e28a41, OneHotEncoderEstimator_4922bc4bf35e59ac9e77, StringIndexer_4a3695cd15cb0c875728, OneHotEncoderEstimator_4026bad9f8e6f46eefcc, StringIndexer_4e93a6ea9870a6e53eb9, VectorAssembler_4edc80b75ad63ea3bea4, StandardScaler_4e0fb8eb2dda027c38b4, PCA_4f738cf9ae89166cdc9b, RandomForestClassifier_476a94ed7c03fcd80e19]\n"
     ]
    }
   ],
   "source": [
    "#Create pipeline stages\n",
    "stages = []\n",
    "\n",
    "Pages = [(\"page_\"+ page) for page in pages]\n",
    "numericColumns = ['action','length', 'status']\n",
    "numericColumns += Pages\n",
    "categoricalColumns = ['level','gender','location','userAgent']\n",
    "tfidfColumns = [\"artist\"]\n",
    "\n",
    "print(numericColumns + categoricalColumns + tfidfColumns)\n",
    "print(len(numericColumns + categoricalColumns + tfidfColumns))\n",
    "\n",
    "# Features\n",
    "##category\n",
    "for categoricalCol in categoricalColumns:\n",
    "    stringIndexer = StringIndexer(inputCol = categoricalCol, outputCol = categoricalCol + '_index')\n",
    "    encoder = OneHotEncoderEstimator(inputCols=[stringIndexer.getOutputCol()], outputCols=[categoricalCol + \"_vec\"])\n",
    "    stages += [stringIndexer, encoder]\n",
    "    \n",
    "for tfidfCol in tfidfColumns:\n",
    "    tokenizer = Tokenizer(inputCol=tfidfCol, outputCol=tfidfCol+\"_tokens\")\n",
    "    hashingTF = HashingTF(inputCol=tfidfCol+\"_tokens\", outputCol=tfidfCol+ \"_tf\")\n",
    "    idf = IDF(inputCol=tfidfCol+\"_tf\", outputCol=tfidfCol+\"_tfidf\")\n",
    "    #stages += [tokenizer,hashingTF,idf]    \n",
    "\n",
    "#label\n",
    "label_index = StringIndexer(inputCol = 'churn', outputCol = 'label')\n",
    "stages += [label_index]\n",
    "\n",
    "#assembler\n",
    "assemblerInputs =  [cat + \"_vec\" for cat in categoricalColumns]+ \\\n",
    "                  numericColumns #+ \\\n",
    "                   #[tfidf + \"_tfidf\" for tfidf in tfidfColumns]\\\n",
    "                 \n",
    "assembler = VectorAssembler(inputCols=assemblerInputs, outputCol=\"features_assem\")\n",
    "scaler = StandardScaler(inputCol=\"features_assem\", outputCol=\"bPCfeatures\",withStd=True, withMean=False)\n",
    "\n",
    "# kk = 3 (63.92)\n",
    "# kk = 10 (90.15)\n",
    "# kk = 15 (96.49)\n",
    "\n",
    "kk = 10  \n",
    "stages += [assembler,scaler]\n",
    "pca = PCA(k=kk, inputCol=\"bPCfeatures\", outputCol=\"features\")\n",
    "stagesPCA = stages + [pca]\n",
    "rf = RandomForestClassifier() #numtrees=10 \n",
    "stagesPCA += [rf]\n",
    "print(stagesPCA)\n",
    "\n",
    "pipeline = Pipeline(stages=stagesPCA)\n",
    "\n",
    "# model = pipeline.fit(DF) \n",
    "# var =  model.stages[-1].explainedVariance\n",
    "# sumVar = 0\n",
    "# for e in var:\n",
    "#     print(e)\n",
    "#     sumVar += e\n",
    "# print(\"SUM: \", sumVar)"
   ]
  },
  {
   "cell_type": "markdown",
   "metadata": {},
   "source": [
    "We must do PCA first so we don't overfit leading to bad performance. Without PCA result there was ~74% accuracy. We are selecting 10 columns as this explains just greather than 90% of variance. \n",
    "\n",
    "*Removing tf-idf(artist) is a conscious decision. PCA will not fit on so many columns (262172). Moreover, removing this column (without transforming space) reduced accuracy by 3-4%"
   ]
  },
  {
   "cell_type": "code",
   "execution_count": 49,
   "metadata": {},
   "outputs": [
    {
     "name": "stdout",
     "output_type": "stream",
     "text": [
      "92\n",
      "103\n",
      "+-----+----------+-----------------------------------------+\n",
      "|label|prediction|probability                              |\n",
      "+-----+----------+-----------------------------------------+\n",
      "|0.0  |0.0       |[0.7805737041335387,0.21942629586646145] |\n",
      "|0.0  |0.0       |[0.9416666666666667,0.05833333333333333] |\n",
      "|0.0  |0.0       |[0.9070196456824549,0.09298035431754505] |\n",
      "|0.0  |0.0       |[0.9647058823529411,0.035294117647058816]|\n",
      "|0.0  |0.0       |[0.9882352941176471,0.011764705882352941]|\n",
      "|0.0  |0.0       |[0.9722352941176471,0.02776470588235294] |\n",
      "|0.0  |0.0       |[0.8249609531566572,0.17503904684334287] |\n",
      "|0.0  |0.0       |[1.0,0.0]                                |\n",
      "|0.0  |0.0       |[0.7993867172074213,0.20061328279257878] |\n",
      "|0.0  |0.0       |[0.9264179223654818,0.07358207763451817] |\n",
      "|0.0  |0.0       |[0.9381826282478348,0.06181737175216524] |\n",
      "|0.0  |0.0       |[0.9264179223654818,0.07358207763451817] |\n",
      "|0.0  |0.0       |[0.9117780008834551,0.08822199911654491] |\n",
      "|0.0  |0.0       |[0.8183780654561223,0.18162193454387757] |\n",
      "|0.0  |0.0       |[0.984,0.016]                            |\n",
      "|0.0  |0.0       |[0.9617777777777778,0.03822222222222223] |\n",
      "|0.0  |0.0       |[0.9882352941176471,0.011764705882352941]|\n",
      "|0.0  |0.0       |[0.9314620174346201,0.06853798256537981] |\n",
      "|0.0  |0.0       |[0.8113893395850436,0.18861066041495642] |\n",
      "|0.0  |0.0       |[0.9882352941176471,0.011764705882352941]|\n",
      "|0.0  |0.0       |[0.6788512476684351,0.3211487523315649]  |\n",
      "|0.0  |0.0       |[0.9660130718954247,0.03398692810457516] |\n",
      "|0.0  |0.0       |[0.903310502283105,0.09668949771689496]  |\n",
      "|0.0  |0.0       |[0.7758088511564539,0.22419114884354613] |\n",
      "|0.0  |0.0       |[0.6662145144102184,0.3337854855897816]  |\n",
      "|0.0  |0.0       |[0.895254939800102,0.104745060199898]    |\n",
      "|0.0  |0.0       |[0.9314620174346201,0.06853798256537981] |\n",
      "|0.0  |0.0       |[0.9882352941176471,0.011764705882352941]|\n",
      "|0.0  |0.0       |[0.9262443438914028,0.07375565610859729] |\n",
      "|0.0  |0.0       |[0.9882352941176471,0.011764705882352941]|\n",
      "|0.0  |0.0       |[0.9722352941176471,0.02776470588235294] |\n",
      "|0.0  |0.0       |[0.9722352941176471,0.02776470588235294] |\n",
      "|0.0  |0.0       |[0.9722352941176471,0.02776470588235294] |\n",
      "|0.0  |0.0       |[0.953107088989442,0.04689291101055807]  |\n",
      "|0.0  |0.0       |[0.9647058823529411,0.035294117647058816]|\n",
      "|0.0  |0.0       |[0.9262443438914028,0.07375565610859729] |\n",
      "|0.0  |0.0       |[0.7300248897474925,0.26997511025250753] |\n",
      "|0.0  |0.0       |[0.8871070889894419,0.11289291101055807] |\n",
      "|0.0  |0.0       |[0.9722352941176471,0.02776470588235294] |\n",
      "|0.0  |0.0       |[0.5937471367270923,0.40625286327290766] |\n",
      "|0.0  |0.0       |[0.9722352941176471,0.02776470588235294] |\n",
      "|0.0  |0.0       |[0.9722352941176471,0.02776470588235294] |\n",
      "|0.0  |0.0       |[0.8705383567957098,0.1294616432042903]  |\n",
      "|0.0  |0.0       |[0.846786669886128,0.15321333011387192]  |\n",
      "|0.0  |0.0       |[0.9487058823529411,0.051294117647058816]|\n",
      "|0.0  |0.0       |[0.6570180228327308,0.3429819771672692]  |\n",
      "|0.0  |0.0       |[0.9032051282051283,0.09679487179487181] |\n",
      "|0.0  |0.0       |[0.884,0.11599999999999999]              |\n",
      "|0.0  |0.0       |[0.7507854728635298,0.24921452713647016] |\n",
      "|0.0  |0.0       |[0.6724591002738084,0.3275408997261917]  |\n",
      "|0.0  |0.0       |[0.9882352941176471,0.011764705882352941]|\n",
      "|0.0  |0.0       |[0.9416666666666667,0.05833333333333333] |\n",
      "|0.0  |0.0       |[0.9102443438914027,0.08975565610859729] |\n",
      "|0.0  |0.0       |[0.9722352941176471,0.02776470588235294] |\n",
      "|0.0  |0.0       |[0.9722352941176471,0.02776470588235294] |\n",
      "|0.0  |0.0       |[0.7295711577668618,0.27042884223313823] |\n",
      "|0.0  |0.0       |[0.984,0.016]                            |\n",
      "|0.0  |0.0       |[0.7721634615384615,0.22783653846153845] |\n",
      "|0.0  |0.0       |[0.9264179223654818,0.07358207763451817] |\n",
      "|0.0  |0.0       |[0.9722352941176471,0.02776470588235294] |\n",
      "|0.0  |0.0       |[0.6959971119697147,0.3040028880302853]  |\n",
      "|0.0  |0.0       |[0.9882352941176471,0.011764705882352941]|\n",
      "|0.0  |0.0       |[0.9516363636363636,0.048363636363636366]|\n",
      "|0.0  |0.0       |[0.9314620174346201,0.06853798256537981] |\n",
      "|0.0  |0.0       |[0.8113893395850436,0.18861066041495642] |\n",
      "|0.0  |0.0       |[0.9722352941176471,0.02776470588235294] |\n",
      "|0.0  |0.0       |[0.9697737556561086,0.030226244343891408]|\n",
      "|0.0  |0.0       |[0.9882352941176471,0.011764705882352941]|\n",
      "|0.0  |0.0       |[0.9316973115522673,0.06830268844773277] |\n",
      "|0.0  |0.0       |[0.9046996815820345,0.09530031841796548] |\n",
      "|0.0  |0.0       |[0.9722352941176471,0.02776470588235294] |\n",
      "|0.0  |0.0       |[0.9722352941176471,0.02776470588235294] |\n",
      "|0.0  |0.0       |[0.716937340497175,0.283062659502825]    |\n",
      "|0.0  |0.0       |[0.9722352941176471,0.02776470588235294] |\n",
      "|0.0  |0.0       |[0.8974367579819201,0.10256324201807983] |\n",
      "|0.0  |0.0       |[0.9391422923653936,0.06085770763460637] |\n",
      "|1.0  |0.0       |[0.846786669886128,0.15321333011387192]  |\n",
      "|1.0  |0.0       |[0.6856595298894856,0.31434047011051436] |\n",
      "|1.0  |0.0       |[0.9413719192200205,0.05862808077997952] |\n",
      "|1.0  |0.0       |[0.6452533169503779,0.3547466830496221]  |\n",
      "|1.0  |0.0       |[0.6522924583645192,0.3477075416354807]  |\n",
      "|1.0  |0.0       |[0.7652486873207482,0.23475131267925176] |\n",
      "|1.0  |0.0       |[0.9138301282051282,0.0861698717948718]  |\n",
      "|1.0  |0.0       |[0.5607501228477256,0.4392498771522744]  |\n",
      "|1.0  |0.0       |[0.5736643825011157,0.4263356174988843]  |\n",
      "|1.0  |0.0       |[0.6161956116377991,0.383804388362201]   |\n",
      "|1.0  |0.0       |[0.7441923981650008,0.2558076018349991]  |\n",
      "|1.0  |1.0       |[0.1,0.9]                                |\n",
      "|1.0  |1.0       |[0.15434782608695655,0.8456521739130435] |\n",
      "|1.0  |1.0       |[0.25,0.75]                              |\n",
      "|1.0  |1.0       |[0.15,0.85]                              |\n",
      "|1.0  |1.0       |[0.0,1.0]                                |\n",
      "|1.0  |1.0       |[0.43229166666666663,0.5677083333333334] |\n",
      "|1.0  |1.0       |[0.075,0.925]                            |\n",
      "|1.0  |1.0       |[0.0,1.0]                                |\n",
      "|1.0  |1.0       |[0.0,1.0]                                |\n",
      "|1.0  |1.0       |[0.004347826086956522,0.9956521739130435]|\n",
      "|1.0  |1.0       |[0.0,1.0]                                |\n",
      "|1.0  |1.0       |[0.3619583333333333,0.6380416666666667]  |\n",
      "|1.0  |1.0       |[0.05,0.95]                              |\n",
      "|1.0  |1.0       |[0.3995333283700616,0.6004666716299385]  |\n",
      "|1.0  |1.0       |[0.004347826086956522,0.9956521739130435]|\n",
      "|1.0  |1.0       |[0.1,0.9]                                |\n",
      "+-----+----------+-----------------------------------------+\n",
      "\n"
     ]
    }
   ],
   "source": [
    "trainingData, testData = DF.randomSplit([0.7, 0.3])\n",
    "trainingData.cache()\n",
    "\n",
    "paramGrid2 = (ParamGridBuilder()\\\n",
    "              .addGrid(rf.numTrees, [3,5,10,15]).build())\n",
    "\n",
    "crossval = CrossValidator(estimator=pipeline,estimatorParamMaps=paramGrid2,\\\n",
    "                          evaluator=MulticlassClassificationEvaluator(metricName=\"weightedRecall\"),numFolds=10)\n",
    "#with active_session():\n",
    "cvModel = crossval.fit(trainingData)\n",
    "results = cvModel.transform(testData)\n",
    "\n",
    "print(results.filter(results.label == results.prediction).count())\n",
    "print(results.count())\n",
    "results.select('label','prediction','probability').sort('label','prediction').show(200,False)\n",
    "    \n",
    "#89.32% accuracy"
   ]
  },
  {
   "cell_type": "markdown",
   "metadata": {},
   "source": [
    "Using accuracy metric gives ~83% so we use WeightedRecall instead. Recall is relevant here as we do not want false negatives. Identifying churn rate, or users that are going to churn, and taking actions to keep users is essential. We do not want to lose customers in a customer-faced businesss."
   ]
  },
  {
   "cell_type": "markdown",
   "metadata": {},
   "source": [
    "# Final Steps\n",
    "Clean up your code, adding comments and renaming variables to make the code easier to read and maintain. Refer to the Spark Project Overview page and Data Scientist Capstone Project Rubric to make sure you are including all components of the capstone project and meet all expectations. Remember, this includes thorough documentation in a README file in a Github repository, as well as a web app or blog post."
   ]
  }
 ],
 "metadata": {
  "kernelspec": {
   "display_name": "Python 3",
   "language": "python",
   "name": "python3"
  },
  "language_info": {
   "codemirror_mode": {
    "name": "ipython",
    "version": 3
   },
   "file_extension": ".py",
   "mimetype": "text/x-python",
   "name": "python",
   "nbconvert_exporter": "python",
   "pygments_lexer": "ipython3",
   "version": "3.6.3"
  }
 },
 "nbformat": 4,
 "nbformat_minor": 2
}
